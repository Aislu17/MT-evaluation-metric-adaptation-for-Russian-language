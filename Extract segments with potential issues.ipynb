{
 "cells": [
  {
   "cell_type": "code",
   "execution_count": 33,
   "id": "d6ec9e44",
   "metadata": {},
   "outputs": [],
   "source": [
    "import pandas as pd\n",
    "import numpy as np\n",
    "import os\n",
    "import glob\n",
    "import matplotlib.pyplot as plt\n",
    "\n",
    "from ast import literal_eval"
   ]
  },
  {
   "cell_type": "code",
   "execution_count": 62,
   "id": "d1d73e9c",
   "metadata": {},
   "outputs": [],
   "source": [
    "scores_dir = 'scores'\n",
    "segment_scores = 'SCORES_segments_experimental_set_with_reference.xlsx'\n",
    "parameters_to_test = 'MAX'\n",
    "RESULT_FILE = f'issues/{parameters_to_test}_{segment_scores}'"
   ]
  },
  {
   "cell_type": "code",
   "execution_count": 63,
   "id": "b4e4a4ae",
   "metadata": {},
   "outputs": [
    {
     "data": {
      "text/html": [
       "<div>\n",
       "<style scoped>\n",
       "    .dataframe tbody tr th:only-of-type {\n",
       "        vertical-align: middle;\n",
       "    }\n",
       "\n",
       "    .dataframe tbody tr th {\n",
       "        vertical-align: top;\n",
       "    }\n",
       "\n",
       "    .dataframe thead th {\n",
       "        text-align: right;\n",
       "    }\n",
       "</style>\n",
       "<table border=\"1\" class=\"dataframe\">\n",
       "  <thead>\n",
       "    <tr style=\"text-align: right;\">\n",
       "      <th></th>\n",
       "      <th>source</th>\n",
       "      <th>reference</th>\n",
       "      <th>mt</th>\n",
       "      <th>subword_scores</th>\n",
       "      <th>wmt22-seqtag-mqm</th>\n",
       "      <th>corpus score</th>\n",
       "      <th>issues</th>\n",
       "      <th>type of issues</th>\n",
       "    </tr>\n",
       "  </thead>\n",
       "  <tbody>\n",
       "    <tr>\n",
       "      <th>0</th>\n",
       "      <td>Many other things that the LHC could discover.</td>\n",
       "      <td>Коллайдер может открыть и много другого.</td>\n",
       "      <td>Много других вещей, которые мог обнаружить БАК.</td>\n",
       "      <td>[('▁Много', 0.05214263126254082), ('▁других', ...</td>\n",
       "      <td>0.472122</td>\n",
       "      <td>0.032247</td>\n",
       "      <td>БАК</td>\n",
       "      <td>abbr</td>\n",
       "    </tr>\n",
       "    <tr>\n",
       "      <th>1</th>\n",
       "      <td>That's what the EIA forecast tells us.</td>\n",
       "      <td>Вот о чём говорит прогноз ИАЭ.</td>\n",
       "      <td>Вот что говорит нам прогноз EIA.</td>\n",
       "      <td>[('▁Вот', 0.05699001997709274), ('▁что', 0.047...</td>\n",
       "      <td>0.519490</td>\n",
       "      <td>0.032247</td>\n",
       "      <td>EIA</td>\n",
       "      <td>abbr</td>\n",
       "    </tr>\n",
       "  </tbody>\n",
       "</table>\n",
       "</div>"
      ],
      "text/plain": [
       "                                            source  \\\n",
       "0  Many other things that the LHC could discover.    \n",
       "1          That's what the EIA forecast tells us.    \n",
       "\n",
       "                                   reference  \\\n",
       "0  Коллайдер может открыть и много другого.    \n",
       "1            Вот о чём говорит прогноз ИАЭ.    \n",
       "\n",
       "                                                mt  \\\n",
       "0  Много других вещей, которые мог обнаружить БАК.   \n",
       "1                 Вот что говорит нам прогноз EIA.   \n",
       "\n",
       "                                      subword_scores  wmt22-seqtag-mqm  \\\n",
       "0  [('▁Много', 0.05214263126254082), ('▁других', ...          0.472122   \n",
       "1  [('▁Вот', 0.05699001997709274), ('▁что', 0.047...          0.519490   \n",
       "\n",
       "   corpus score issues type of issues  \n",
       "0      0.032247    БАК           abbr  \n",
       "1      0.032247    EIA           abbr  "
      ]
     },
     "execution_count": 63,
     "metadata": {},
     "output_type": "execute_result"
    }
   ],
   "source": [
    "scores_df = pd.read_excel(f'{scores_dir}/{segment_scores}')\n",
    "scores_df.head(2)"
   ]
  },
  {
   "cell_type": "code",
   "execution_count": 64,
   "id": "5b9ffe7c",
   "metadata": {},
   "outputs": [],
   "source": [
    "scores_df['sentence_num'] = range(scores_df.shape[0])"
   ]
  },
  {
   "cell_type": "code",
   "execution_count": 65,
   "id": "532bcfa1",
   "metadata": {},
   "outputs": [
    {
     "data": {
      "text/plain": [
       "(655, 9)"
      ]
     },
     "execution_count": 65,
     "metadata": {},
     "output_type": "execute_result"
    }
   ],
   "source": [
    "scores_df.shape"
   ]
  },
  {
   "cell_type": "code",
   "execution_count": 68,
   "id": "7771c8dc",
   "metadata": {},
   "outputs": [],
   "source": [
    "word_scores = scores_df['subword_scores']\n",
    "word_scores_list = []\n",
    "for segment_scores in word_scores:\n",
    "    word_scores_list.append(literal_eval(segment_scores))"
   ]
  },
  {
   "cell_type": "code",
   "execution_count": 69,
   "id": "2dfb6f62",
   "metadata": {},
   "outputs": [
    {
     "data": {
      "image/png": "[encoded data removed]",
      "text/plain": [
       "<Figure size 432x288 with 1 Axes>"
      ]
     },
     "metadata": {
      "needs_background": "light"
     },
     "output_type": "display_data"
    }
   ],
   "source": [
    "scores_df['wmt22-seqtag-mqm'].hist();"
   ]
  },
  {
   "cell_type": "code",
   "execution_count": 71,
   "id": "12e87520",
   "metadata": {},
   "outputs": [],
   "source": [
    "def extract_errors(word_scores):\n",
    "    scores_new = []\n",
    "    for index, pair in enumerate(word_scores):\n",
    "        scores_new.append([index, pair])\n",
    "    sorted_scores = scores_new\n",
    "    errors = []\n",
    "    weights = []\n",
    "    for pair in sorted_scores:\n",
    "        if pair not in (item for sublist in errors for item in sublist):\n",
    "            if (pair[1][0].startswith('▁')) and (scores_new[pair[0]][0] != len(sorted_scores)-1) and (scores_new[pair[0]+1][1][0].startswith('▁')):\n",
    "                errors.append(pair)\n",
    "            else:\n",
    "                if pair[1][0].startswith('▁'):\n",
    "                    whole_word = []\n",
    "                    whole_word.append(pair)\n",
    "                    for i in range(1, 6):\n",
    "                        if (pair[0]+i<len(sorted_scores)) and (scores_new[pair[0]+i][1][0].startswith('▁')==False):\n",
    "                            whole_word.append(scores_new[pair[0]+i])\n",
    "                        else:\n",
    "                            errors.append(whole_word)\n",
    "                            break\n",
    "                else:\n",
    "                    whole_word = []\n",
    "                    whole_word.append(pair)\n",
    "                    for i in range(1, 6):\n",
    "                        if scores_new[pair[0]-i][1][0].startswith('▁'):\n",
    "                            whole_word.insert(whole_word.index(pair)+1-i, scores_new[pair[0]-i])\n",
    "                            break\n",
    "                        else:\n",
    "                            whole_word.insert(whole_word.index(pair)+1-i, scores_new[pair[0]-i])\n",
    "                    for i in range(1, 6):\n",
    "                        if pair[0]+i<len(sorted_scores):\n",
    "                            if scores_new[pair[0]+i][1][0].startswith('▁'):\n",
    "                                errors.append(whole_word)\n",
    "                                break\n",
    "                            else:\n",
    "                                whole_word.append(scores_new[pair[0]+i])\n",
    "                        else:\n",
    "                            errors.append(whole_word)\n",
    "                            break\n",
    "        elif (pair[1][0].startswith('▁')) and (scores_new[pair[0]][0] == len(sorted_scores)-1):\n",
    "            errors.append(pair)\n",
    "        else:\n",
    "            continue\n",
    "    tokens = []\n",
    "    all_weights = []\n",
    "    for pair in errors:\n",
    "        token = []\n",
    "        weights = []\n",
    "        if type(pair[0])==list:\n",
    "            for p in pair:\n",
    "                token.append(p[1][0])\n",
    "                weights.append(p[1][1])\n",
    "            tokens.append(''.join(token))\n",
    "            if parameters_to_test == 'SUM':\n",
    "                all_weights.append(sum(weights))\n",
    "            elif parameters_to_test == 'MAX':\n",
    "                all_weights.append(max(weights))\n",
    "        else:\n",
    "            tokens.append(pair[1][0])\n",
    "            all_weights.append(pair[1][1])\n",
    "    tokens_clean = [token.replace('▁', '') for token in tokens]\n",
    "    return tokens_clean, all_weights"
   ]
  },
  {
   "cell_type": "code",
   "execution_count": 72,
   "id": "dcba51d8",
   "metadata": {
    "scrolled": true
   },
   "outputs": [],
   "source": [
    "all_tokens = []\n",
    "all_weights = []\n",
    "sentence_num = []"
   ]
  },
  {
   "cell_type": "code",
   "execution_count": 73,
   "id": "fd911b59",
   "metadata": {},
   "outputs": [],
   "source": [
    "for index, sentence in enumerate(word_scores_list):\n",
    "    tokens, weights = extract_errors(sentence)\n",
    "    for token, weight in zip(tokens, weights):\n",
    "        all_tokens.append(token)\n",
    "        all_weights.append(weight)\n",
    "        sentence_num.append(index)"
   ]
  },
  {
   "cell_type": "code",
   "execution_count": 74,
   "id": "479c6e61",
   "metadata": {},
   "outputs": [
    {
     "data": {
      "text/plain": [
       "True"
      ]
     },
     "execution_count": 74,
     "metadata": {},
     "output_type": "execute_result"
    }
   ],
   "source": [
    "len(all_tokens)==len(all_weights)==len(sentence_num)"
   ]
  },
  {
   "cell_type": "code",
   "execution_count": 75,
   "id": "3004d335",
   "metadata": {},
   "outputs": [],
   "source": [
    "tokens_weights_df = pd.DataFrame(data={'tokens': all_tokens, 'weights': all_weights, 'sentence_num':sentence_num})"
   ]
  },
  {
   "cell_type": "code",
   "execution_count": 76,
   "id": "e1f3e587",
   "metadata": {},
   "outputs": [
    {
     "data": {
      "text/html": [
       "<div>\n",
       "<style scoped>\n",
       "    .dataframe tbody tr th:only-of-type {\n",
       "        vertical-align: middle;\n",
       "    }\n",
       "\n",
       "    .dataframe tbody tr th {\n",
       "        vertical-align: top;\n",
       "    }\n",
       "\n",
       "    .dataframe thead th {\n",
       "        text-align: right;\n",
       "    }\n",
       "</style>\n",
       "<table border=\"1\" class=\"dataframe\">\n",
       "  <thead>\n",
       "    <tr style=\"text-align: right;\">\n",
       "      <th></th>\n",
       "      <th>tokens</th>\n",
       "      <th>weights</th>\n",
       "      <th>sentence_num</th>\n",
       "    </tr>\n",
       "  </thead>\n",
       "  <tbody>\n",
       "    <tr>\n",
       "      <th>0</th>\n",
       "      <td>Много</td>\n",
       "      <td>0.052143</td>\n",
       "      <td>0</td>\n",
       "    </tr>\n",
       "    <tr>\n",
       "      <th>1</th>\n",
       "      <td>других</td>\n",
       "      <td>0.038244</td>\n",
       "      <td>0</td>\n",
       "    </tr>\n",
       "    <tr>\n",
       "      <th>2</th>\n",
       "      <td>вещей,</td>\n",
       "      <td>0.098989</td>\n",
       "      <td>0</td>\n",
       "    </tr>\n",
       "    <tr>\n",
       "      <th>3</th>\n",
       "      <td>которые</td>\n",
       "      <td>0.032366</td>\n",
       "      <td>0</td>\n",
       "    </tr>\n",
       "    <tr>\n",
       "      <th>4</th>\n",
       "      <td>мог</td>\n",
       "      <td>0.140833</td>\n",
       "      <td>0</td>\n",
       "    </tr>\n",
       "  </tbody>\n",
       "</table>\n",
       "</div>"
      ],
      "text/plain": [
       "    tokens   weights  sentence_num\n",
       "0    Много  0.052143             0\n",
       "1   других  0.038244             0\n",
       "2   вещей,  0.098989             0\n",
       "3  которые  0.032366             0\n",
       "4      мог  0.140833             0"
      ]
     },
     "execution_count": 76,
     "metadata": {},
     "output_type": "execute_result"
    }
   ],
   "source": [
    "tokens_weights_df.head()"
   ]
  },
  {
   "cell_type": "code",
   "execution_count": 77,
   "id": "b93ba7e0",
   "metadata": {},
   "outputs": [
    {
     "data": {
      "text/plain": [
       "(9469, 3)"
      ]
     },
     "execution_count": 77,
     "metadata": {},
     "output_type": "execute_result"
    }
   ],
   "source": [
    "tokens_weights_df.shape"
   ]
  },
  {
   "cell_type": "code",
   "execution_count": 78,
   "id": "0c3ceb1b",
   "metadata": {
    "scrolled": true
   },
   "outputs": [
    {
     "data": {
      "text/html": [
       "<div>\n",
       "<style scoped>\n",
       "    .dataframe tbody tr th:only-of-type {\n",
       "        vertical-align: middle;\n",
       "    }\n",
       "\n",
       "    .dataframe tbody tr th {\n",
       "        vertical-align: top;\n",
       "    }\n",
       "\n",
       "    .dataframe thead th {\n",
       "        text-align: right;\n",
       "    }\n",
       "</style>\n",
       "<table border=\"1\" class=\"dataframe\">\n",
       "  <thead>\n",
       "    <tr style=\"text-align: right;\">\n",
       "      <th></th>\n",
       "      <th>tokens</th>\n",
       "      <th>weights</th>\n",
       "      <th>sentence_num</th>\n",
       "    </tr>\n",
       "  </thead>\n",
       "  <tbody>\n",
       "    <tr>\n",
       "      <th>4885</th>\n",
       "      <td>(Audio-Follow-Video)</td>\n",
       "      <td>5.139834</td>\n",
       "      <td>326</td>\n",
       "    </tr>\n",
       "    <tr>\n",
       "      <th>6663</th>\n",
       "      <td>Covid-пострадавших</td>\n",
       "      <td>5.016753</td>\n",
       "      <td>435</td>\n",
       "    </tr>\n",
       "    <tr>\n",
       "      <th>4839</th>\n",
       "      <td>Fade-Thru-Black</td>\n",
       "      <td>4.807242</td>\n",
       "      <td>324</td>\n",
       "    </tr>\n",
       "    <tr>\n",
       "      <th>4835</th>\n",
       "      <td>Fade-Thru-Black</td>\n",
       "      <td>4.679301</td>\n",
       "      <td>324</td>\n",
       "    </tr>\n",
       "    <tr>\n",
       "      <th>2543</th>\n",
       "      <td>парикмахерскую</td>\n",
       "      <td>4.326813</td>\n",
       "      <td>176</td>\n",
       "    </tr>\n",
       "    <tr>\n",
       "      <th>7776</th>\n",
       "      <td>Rollercoaster</td>\n",
       "      <td>4.285227</td>\n",
       "      <td>511</td>\n",
       "    </tr>\n",
       "    <tr>\n",
       "      <th>7754</th>\n",
       "      <td>Picture-in-Picture</td>\n",
       "      <td>4.148581</td>\n",
       "      <td>510</td>\n",
       "    </tr>\n",
       "    <tr>\n",
       "      <th>9409</th>\n",
       "      <td>#PRS_ORG#</td>\n",
       "      <td>3.594893</td>\n",
       "      <td>650</td>\n",
       "    </tr>\n",
       "    <tr>\n",
       "      <th>6681</th>\n",
       "      <td>О'Махони.</td>\n",
       "      <td>3.553739</td>\n",
       "      <td>435</td>\n",
       "    </tr>\n",
       "    <tr>\n",
       "      <th>4168</th>\n",
       "      <td>насторожить!</td>\n",
       "      <td>3.338533</td>\n",
       "      <td>283</td>\n",
       "    </tr>\n",
       "    <tr>\n",
       "      <th>6660</th>\n",
       "      <td>вытащить</td>\n",
       "      <td>3.234719</td>\n",
       "      <td>434</td>\n",
       "    </tr>\n",
       "    <tr>\n",
       "      <th>6055</th>\n",
       "      <td>#PRS_ORG#</td>\n",
       "      <td>3.190399</td>\n",
       "      <td>401</td>\n",
       "    </tr>\n",
       "    <tr>\n",
       "      <th>5782</th>\n",
       "      <td>переворачивает</td>\n",
       "      <td>3.134910</td>\n",
       "      <td>383</td>\n",
       "    </tr>\n",
       "    <tr>\n",
       "      <th>3658</th>\n",
       "      <td>возвращаться</td>\n",
       "      <td>3.118256</td>\n",
       "      <td>253</td>\n",
       "    </tr>\n",
       "    <tr>\n",
       "      <th>7787</th>\n",
       "      <td>«Уоспс»</td>\n",
       "      <td>2.972998</td>\n",
       "      <td>511</td>\n",
       "    </tr>\n",
       "    <tr>\n",
       "      <th>5788</th>\n",
       "      <td>\"ПРЕКРАСНО!</td>\n",
       "      <td>2.970439</td>\n",
       "      <td>383</td>\n",
       "    </tr>\n",
       "    <tr>\n",
       "      <th>2764</th>\n",
       "      <td>перестраивались,</td>\n",
       "      <td>2.964320</td>\n",
       "      <td>190</td>\n",
       "    </tr>\n",
       "    <tr>\n",
       "      <th>4836</th>\n",
       "      <td>(FTBTM)</td>\n",
       "      <td>2.951415</td>\n",
       "      <td>324</td>\n",
       "    </tr>\n",
       "    <tr>\n",
       "      <th>4840</th>\n",
       "      <td>(FTBTM))</td>\n",
       "      <td>2.940059</td>\n",
       "      <td>324</td>\n",
       "    </tr>\n",
       "    <tr>\n",
       "      <th>4965</th>\n",
       "      <td>«Уоспс»</td>\n",
       "      <td>2.935559</td>\n",
       "      <td>331</td>\n",
       "    </tr>\n",
       "    <tr>\n",
       "      <th>5792</th>\n",
       "      <td>прикручен.</td>\n",
       "      <td>2.933202</td>\n",
       "      <td>384</td>\n",
       "    </tr>\n",
       "    <tr>\n",
       "      <th>4766</th>\n",
       "      <td>Jawbone,</td>\n",
       "      <td>2.878849</td>\n",
       "      <td>320</td>\n",
       "    </tr>\n",
       "    <tr>\n",
       "      <th>3669</th>\n",
       "      <td>сабреддите,</td>\n",
       "      <td>2.845388</td>\n",
       "      <td>254</td>\n",
       "    </tr>\n",
       "    <tr>\n",
       "      <th>3586</th>\n",
       "      <td>бла-бла-бла</td>\n",
       "      <td>2.798797</td>\n",
       "      <td>247</td>\n",
       "    </tr>\n",
       "    <tr>\n",
       "      <th>1695</th>\n",
       "      <td>сдался.</td>\n",
       "      <td>2.750120</td>\n",
       "      <td>116</td>\n",
       "    </tr>\n",
       "    <tr>\n",
       "      <th>3447</th>\n",
       "      <td>Восстановить</td>\n",
       "      <td>2.731184</td>\n",
       "      <td>233</td>\n",
       "    </tr>\n",
       "    <tr>\n",
       "      <th>3723</th>\n",
       "      <td>судебно-медицинская</td>\n",
       "      <td>2.721565</td>\n",
       "      <td>256</td>\n",
       "    </tr>\n",
       "    <tr>\n",
       "      <th>3205</th>\n",
       "      <td>Коснитесь</td>\n",
       "      <td>2.660611</td>\n",
       "      <td>216</td>\n",
       "    </tr>\n",
       "    <tr>\n",
       "      <th>3446</th>\n",
       "      <td>Коснитесь</td>\n",
       "      <td>2.652034</td>\n",
       "      <td>233</td>\n",
       "    </tr>\n",
       "    <tr>\n",
       "      <th>8962</th>\n",
       "      <td>закрыться</td>\n",
       "      <td>2.639109</td>\n",
       "      <td>608</td>\n",
       "    </tr>\n",
       "    <tr>\n",
       "      <th>4029</th>\n",
       "      <td>крекере</td>\n",
       "      <td>2.632980</td>\n",
       "      <td>275</td>\n",
       "    </tr>\n",
       "    <tr>\n",
       "      <th>5614</th>\n",
       "      <td>премией.</td>\n",
       "      <td>2.599572</td>\n",
       "      <td>369</td>\n",
       "    </tr>\n",
       "    <tr>\n",
       "      <th>3717</th>\n",
       "      <td>засохнет.</td>\n",
       "      <td>2.597637</td>\n",
       "      <td>255</td>\n",
       "    </tr>\n",
       "    <tr>\n",
       "      <th>5784</th>\n",
       "      <td>дерьмо</td>\n",
       "      <td>2.596029</td>\n",
       "      <td>383</td>\n",
       "    </tr>\n",
       "    <tr>\n",
       "      <th>6676</th>\n",
       "      <td>отрицал</td>\n",
       "      <td>2.584465</td>\n",
       "      <td>435</td>\n",
       "    </tr>\n",
       "    <tr>\n",
       "      <th>5039</th>\n",
       "      <td>XDR-TB</td>\n",
       "      <td>2.576444</td>\n",
       "      <td>334</td>\n",
       "    </tr>\n",
       "    <tr>\n",
       "      <th>3195</th>\n",
       "      <td>Коснитесь</td>\n",
       "      <td>2.551455</td>\n",
       "      <td>214</td>\n",
       "    </tr>\n",
       "    <tr>\n",
       "      <th>2537</th>\n",
       "      <td>тупую</td>\n",
       "      <td>2.529470</td>\n",
       "      <td>176</td>\n",
       "    </tr>\n",
       "    <tr>\n",
       "      <th>6651</th>\n",
       "      <td>«Манстер»</td>\n",
       "      <td>2.528741</td>\n",
       "      <td>434</td>\n",
       "    </tr>\n",
       "    <tr>\n",
       "      <th>3562</th>\n",
       "      <td>завезено.</td>\n",
       "      <td>2.523149</td>\n",
       "      <td>243</td>\n",
       "    </tr>\n",
       "    <tr>\n",
       "      <th>4792</th>\n",
       "      <td>Turdly,</td>\n",
       "      <td>2.521339</td>\n",
       "      <td>322</td>\n",
       "    </tr>\n",
       "    <tr>\n",
       "      <th>6349</th>\n",
       "      <td>сердито</td>\n",
       "      <td>2.490889</td>\n",
       "      <td>420</td>\n",
       "    </tr>\n",
       "    <tr>\n",
       "      <th>4122</th>\n",
       "      <td>приготовила</td>\n",
       "      <td>2.489796</td>\n",
       "      <td>280</td>\n",
       "    </tr>\n",
       "    <tr>\n",
       "      <th>3117</th>\n",
       "      <td>розеткой.</td>\n",
       "      <td>2.451046</td>\n",
       "      <td>208</td>\n",
       "    </tr>\n",
       "    <tr>\n",
       "      <th>6639</th>\n",
       "      <td>появлялось</td>\n",
       "      <td>2.447837</td>\n",
       "      <td>434</td>\n",
       "    </tr>\n",
       "    <tr>\n",
       "      <th>6680</th>\n",
       "      <td>прикрытия</td>\n",
       "      <td>2.442248</td>\n",
       "      <td>435</td>\n",
       "    </tr>\n",
       "    <tr>\n",
       "      <th>5082</th>\n",
       "      <td>односторонним</td>\n",
       "      <td>2.427862</td>\n",
       "      <td>335</td>\n",
       "    </tr>\n",
       "    <tr>\n",
       "      <th>3189</th>\n",
       "      <td>Коснитесь</td>\n",
       "      <td>2.424799</td>\n",
       "      <td>213</td>\n",
       "    </tr>\n",
       "    <tr>\n",
       "      <th>2538</th>\n",
       "      <td>кашу,</td>\n",
       "      <td>2.423886</td>\n",
       "      <td>176</td>\n",
       "    </tr>\n",
       "    <tr>\n",
       "      <th>4739</th>\n",
       "      <td>Havasupai</td>\n",
       "      <td>2.418504</td>\n",
       "      <td>319</td>\n",
       "    </tr>\n",
       "  </tbody>\n",
       "</table>\n",
       "</div>"
      ],
      "text/plain": [
       "                    tokens   weights  sentence_num\n",
       "4885  (Audio-Follow-Video)  5.139834           326\n",
       "6663    Covid-пострадавших  5.016753           435\n",
       "4839       Fade-Thru-Black  4.807242           324\n",
       "4835       Fade-Thru-Black  4.679301           324\n",
       "2543        парикмахерскую  4.326813           176\n",
       "7776         Rollercoaster  4.285227           511\n",
       "7754    Picture-in-Picture  4.148581           510\n",
       "9409             #PRS_ORG#  3.594893           650\n",
       "6681             О'Махони.  3.553739           435\n",
       "4168          насторожить!  3.338533           283\n",
       "6660              вытащить  3.234719           434\n",
       "6055             #PRS_ORG#  3.190399           401\n",
       "5782        переворачивает  3.134910           383\n",
       "3658          возвращаться  3.118256           253\n",
       "7787               «Уоспс»  2.972998           511\n",
       "5788           \"ПРЕКРАСНО!  2.970439           383\n",
       "2764      перестраивались,  2.964320           190\n",
       "4836               (FTBTM)  2.951415           324\n",
       "4840              (FTBTM))  2.940059           324\n",
       "4965               «Уоспс»  2.935559           331\n",
       "5792            прикручен.  2.933202           384\n",
       "4766              Jawbone,  2.878849           320\n",
       "3669           сабреддите,  2.845388           254\n",
       "3586           бла-бла-бла  2.798797           247\n",
       "1695               сдался.  2.750120           116\n",
       "3447          Восстановить  2.731184           233\n",
       "3723   судебно-медицинская  2.721565           256\n",
       "3205             Коснитесь  2.660611           216\n",
       "3446             Коснитесь  2.652034           233\n",
       "8962             закрыться  2.639109           608\n",
       "4029               крекере  2.632980           275\n",
       "5614              премией.  2.599572           369\n",
       "3717             засохнет.  2.597637           255\n",
       "5784                дерьмо  2.596029           383\n",
       "6676               отрицал  2.584465           435\n",
       "5039                XDR-TB  2.576444           334\n",
       "3195             Коснитесь  2.551455           214\n",
       "2537                 тупую  2.529470           176\n",
       "6651             «Манстер»  2.528741           434\n",
       "3562             завезено.  2.523149           243\n",
       "4792               Turdly,  2.521339           322\n",
       "6349               сердито  2.490889           420\n",
       "4122           приготовила  2.489796           280\n",
       "3117             розеткой.  2.451046           208\n",
       "6639            появлялось  2.447837           434\n",
       "6680             прикрытия  2.442248           435\n",
       "5082         односторонним  2.427862           335\n",
       "3189             Коснитесь  2.424799           213\n",
       "2538                 кашу,  2.423886           176\n",
       "4739             Havasupai  2.418504           319"
      ]
     },
     "execution_count": 78,
     "metadata": {},
     "output_type": "execute_result"
    }
   ],
   "source": [
    "tokens_weights_df.sort_values(by='weights', ascending=False)[:50]"
   ]
  },
  {
   "cell_type": "code",
   "execution_count": 79,
   "id": "d7ecf806",
   "metadata": {},
   "outputs": [
    {
     "data": {
      "image/png": "[encoded data removed]",
      "text/plain": [
       "<Figure size 432x288 with 1 Axes>"
      ]
     },
     "metadata": {
      "needs_background": "light"
     },
     "output_type": "display_data"
    }
   ],
   "source": [
    "tokens_weights_df['weights'].hist();"
   ]
  },
  {
   "cell_type": "markdown",
   "id": "84cd59ad",
   "metadata": {},
   "source": [
    "### Select only sentences with tokens weights > 0.75 procentile"
   ]
  },
  {
   "cell_type": "code",
   "execution_count": 80,
   "id": "7f3074e9",
   "metadata": {},
   "outputs": [
    {
     "data": {
      "image/png": "[encoded data removed]",
      "text/plain": [
       "<Figure size 432x288 with 1 Axes>"
      ]
     },
     "metadata": {
      "needs_background": "light"
     },
     "output_type": "display_data"
    }
   ],
   "source": [
    "tokens_weights_df[tokens_weights_df['weights']>tokens_weights_df['weights'].quantile(0.75)]['weights'].hist();"
   ]
  },
  {
   "cell_type": "code",
   "execution_count": 81,
   "id": "0d68ab6a",
   "metadata": {},
   "outputs": [
    {
     "name": "stdout",
     "output_type": "stream",
     "text": [
      "Sentences with issues:\n"
     ]
    },
    {
     "data": {
      "text/plain": [
       "538"
      ]
     },
     "execution_count": 81,
     "metadata": {},
     "output_type": "execute_result"
    }
   ],
   "source": [
    "print('Sentences with issues:')\n",
    "len(tokens_weights_df[tokens_weights_df['weights']>tokens_weights_df['weights'].quantile(0.75)]['sentence_num'].unique().tolist())"
   ]
  },
  {
   "cell_type": "code",
   "execution_count": 82,
   "id": "e606a152",
   "metadata": {},
   "outputs": [],
   "source": [
    "tokens_big_weights = tokens_weights_df[tokens_weights_df['weights']>tokens_weights_df['weights'].quantile(0.75)]"
   ]
  },
  {
   "cell_type": "code",
   "execution_count": 83,
   "id": "a7622a02",
   "metadata": {},
   "outputs": [
    {
     "data": {
      "text/plain": [
       "(538, 9)"
      ]
     },
     "execution_count": 83,
     "metadata": {},
     "output_type": "execute_result"
    }
   ],
   "source": [
    "issues_df = scores_df[scores_df['sentence_num'].isin(tokens_big_weights['sentence_num'].unique().tolist())]\n",
    "issues_df.shape"
   ]
  },
  {
   "cell_type": "code",
   "execution_count": 84,
   "id": "f317ccbb",
   "metadata": {},
   "outputs": [],
   "source": [
    "issues_list = []\n",
    "for index, row in issues_df.iterrows():\n",
    "    temp_df = tokens_big_weights[tokens_big_weights['sentence_num']==row['sentence_num']]\n",
    "    issues_list.append(temp_df['tokens'].to_list())"
   ]
  },
  {
   "cell_type": "code",
   "execution_count": 85,
   "id": "e2ae6488",
   "metadata": {},
   "outputs": [
    {
     "name": "stderr",
     "output_type": "stream",
     "text": [
      "<ipython-input-85-474b16002a51>:1: SettingWithCopyWarning: \n",
      "A value is trying to be set on a copy of a slice from a DataFrame.\n",
      "Try using .loc[row_indexer,col_indexer] = value instead\n",
      "\n",
      "See the caveats in the documentation: https://pandas.pydata.org/pandas-docs/stable/user_guide/indexing.html#returning-a-view-versus-a-copy\n",
      "  issues_df['issues_found'] = issues_list\n"
     ]
    }
   ],
   "source": [
    "issues_df['issues_found'] = issues_list"
   ]
  },
  {
   "cell_type": "markdown",
   "id": "b9e25453",
   "metadata": {},
   "source": [
    "## Save issues_df"
   ]
  },
  {
   "cell_type": "code",
   "execution_count": 86,
   "id": "f7d0da36",
   "metadata": {},
   "outputs": [],
   "source": [
    "issues_df.to_excel(RESULT_FILE, index=False)"
   ]
  }
 ],
 "metadata": {
  "kernelspec": {
   "display_name": "Python 3",
   "language": "python",
   "name": "python3"
  },
  "language_info": {
   "codemirror_mode": {
    "name": "ipython",
    "version": 3
   },
   "file_extension": ".py",
   "mimetype": "text/x-python",
   "name": "python",
   "nbconvert_exporter": "python",
   "pygments_lexer": "ipython3",
   "version": "3.8.8"
  }
 },
 "nbformat": 4,
 "nbformat_minor": 5
}
