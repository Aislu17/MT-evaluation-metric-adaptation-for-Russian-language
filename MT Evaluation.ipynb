{
 "cells": [
  {
   "cell_type": "markdown",
   "id": "Unat2PesCyrp",
   "metadata": {
    "id": "Unat2PesCyrp"
   },
   "source": [
    "## Using SeqTag model to classify errors in MT"
   ]
  },
  {
   "cell_type": "code",
   "execution_count": 1,
   "id": "n0R1SyXin0qH",
   "metadata": {
    "colab": {
     "base_uri": "https://localhost:8080/"
    },
    "executionInfo": {
     "elapsed": 23392,
     "status": "ok",
     "timestamp": 1682355684670,
     "user": {
      "displayName": "Tamerlan Mukanov",
      "userId": "00277576829690841966"
     },
     "user_tz": -180
    },
    "id": "n0R1SyXin0qH",
    "outputId": "5a008df2-5194-4f84-8847-6afd1c29ec92"
   },
   "outputs": [
    {
     "name": "stdout",
     "output_type": "stream",
     "text": [
      "Mounted at /content/drive\n"
     ]
    }
   ],
   "source": [
    "from google.colab import drive\n",
    "drive.mount('/content/drive')"
   ]
  },
  {
   "cell_type": "code",
   "execution_count": 2,
   "id": "1389c838",
   "metadata": {
    "colab": {
     "base_uri": "https://localhost:8080/",
     "height": 36
    },
    "executionInfo": {
     "elapsed": 11,
     "status": "ok",
     "timestamp": 1682355684671,
     "user": {
      "displayName": "Tamerlan Mukanov",
      "userId": "00277576829690841966"
     },
     "user_tz": -180
    },
    "id": "1389c838",
    "outputId": "69dabd8a-970f-4fd3-89ff-2dc1fd8c4acb"
   },
   "outputs": [
    {
     "data": {
      "application/vnd.google.colaboratory.intrinsic+json": {
       "type": "string"
      },
      "text/plain": [
       "'/content'"
      ]
     },
     "execution_count": 2,
     "metadata": {},
     "output_type": "execute_result"
    }
   ],
   "source": [
    "import tqdm\n",
    "import os\n",
    "os.getcwd()"
   ]
  },
  {
   "cell_type": "code",
   "execution_count": 3,
   "id": "fa38c3dd",
   "metadata": {
    "colab": {
     "base_uri": "https://localhost:8080/",
     "height": 36
    },
    "executionInfo": {
     "elapsed": 9,
     "status": "ok",
     "timestamp": 1682355684671,
     "user": {
      "displayName": "Tamerlan Mukanov",
      "userId": "00277576829690841966"
     },
     "user_tz": -180
    },
    "id": "fa38c3dd",
    "outputId": "6d9281c6-4fd5-4af6-f476-464de3d30239"
   },
   "outputs": [
    {
     "data": {
      "application/vnd.google.colaboratory.intrinsic+json": {
       "type": "string"
      },
      "text/plain": [
       "'/content/drive/MyDrive/thesis'"
      ]
     },
     "execution_count": 3,
     "metadata": {},
     "output_type": "execute_result"
    }
   ],
   "source": [
    "os.chdir('/content/drive/MyDrive/thesis') \n",
    "os.getcwd()"
   ]
  },
  {
   "cell_type": "code",
   "execution_count": 4,
   "id": "6a829134",
   "metadata": {
    "executionInfo": {
     "elapsed": 9,
     "status": "ok",
     "timestamp": 1682355684672,
     "user": {
      "displayName": "Tamerlan Mukanov",
      "userId": "00277576829690841966"
     },
     "user_tz": -180
    },
    "id": "6a829134"
   },
   "outputs": [],
   "source": [
    "!git clone https://github.com/Unbabel/COMET"
   ]
  },
  {
   "cell_type": "code",
   "execution_count": 22,
   "id": "170a3890",
   "metadata": {
    "executionInfo": {
     "elapsed": 2,
     "status": "ok",
     "timestamp": 1682355855694,
     "user": {
      "displayName": "Tamerlan Mukanov",
      "userId": "00277576829690841966"
     },
     "user_tz": -180
    },
    "id": "170a3890"
   },
   "outputs": [],
   "source": [
    "!pip install pyyaml\n",
    "!pip install scipy\n",
    "!pip install transformers\n",
    "!pip install entmax\n",
    "!pip install sentencepiece\n",
    "!pip install torch\n",
    "!pip install pytorch_lightning==2.0.1\n",
    "!pip install huggingface_hub "
   ]
  },
  {
   "cell_type": "markdown",
   "id": "c02ee14e",
   "metadata": {
    "id": "c02ee14e"
   },
   "source": [
    "### Read and prepare the test set for scoring"
   ]
  },
  {
   "cell_type": "code",
   "execution_count": 2,
   "id": "c2ad5d58",
   "metadata": {
    "executionInfo": {
     "elapsed": 1543,
     "status": "ok",
     "timestamp": 1682355686207,
     "user": {
      "displayName": "Tamerlan Mukanov",
      "userId": "00277576829690841966"
     },
     "user_tz": -180
    },
    "id": "c2ad5d58"
   },
   "outputs": [],
   "source": [
    "import pandas as pd\n",
    "import time\n",
    "import glob\n",
    "import re\n",
    "import os\n",
    "import numpy as np\n",
    "import sys\n",
    "import string\n",
    "\n",
    "from tqdm.notebook import trange, tqdm\n",
    "\n",
    "from IPython.display import display, HTML\n",
    "pd.set_option('display.max_colwidth', None)"
   ]
  },
  {
   "cell_type": "code",
   "execution_count": null,
   "id": "e95b1cac",
   "metadata": {
    "id": "e95b1cac"
   },
   "outputs": [],
   "source": [
    "PROJECT_DIR = \"segments\"\n",
    "SCORES_DIR = \"scores\"\n",
    "\n",
    "SOURCE_FILE = \"segments_test_set.xlsx\"\n",
    "RESULT_FILE = f\"SCORES_{SOURCE_FILE}\"\n",
    "\n",
    "SOURCE_LANG = 'en'\n",
    "TARGET_LANG = 'ru'"
   ]
  },
  {
   "cell_type": "code",
   "execution_count": 8,
   "id": "07Q6bXmltcpw",
   "metadata": {
    "colab": {
     "base_uri": "https://localhost:8080/",
     "height": 81
    },
    "executionInfo": {
     "elapsed": 958,
     "status": "ok",
     "timestamp": 1682355732654,
     "user": {
      "displayName": "Tamerlan Mukanov",
      "userId": "00277576829690841966"
     },
     "user_tz": -180
    },
    "id": "07Q6bXmltcpw",
    "outputId": "472685b0-1063-45e6-df51-ef7fa3ab0da3"
   },
   "outputs": [
    {
     "data": {
      "text/html": [
       "<div>\n",
       "<style scoped>\n",
       "    .dataframe tbody tr th:only-of-type {\n",
       "        vertical-align: middle;\n",
       "    }\n",
       "\n",
       "    .dataframe tbody tr th {\n",
       "        vertical-align: top;\n",
       "    }\n",
       "\n",
       "    .dataframe thead th {\n",
       "        text-align: right;\n",
       "    }\n",
       "</style>\n",
       "<table border=\"1\" class=\"dataframe\">\n",
       "  <thead>\n",
       "    <tr style=\"text-align: right;\">\n",
       "      <th></th>\n",
       "      <th>source</th>\n",
       "      <th>reference</th>\n",
       "      <th>mt</th>\n",
       "    </tr>\n",
       "  </thead>\n",
       "  <tbody>\n",
       "    <tr>\n",
       "      <th>0</th>\n",
       "      <td>OK, we have three of three NFL players here.</td>\n",
       "      <td>Итак, у нас здесь три из трёх игроков НФЛ.</td>\n",
       "      <td>Итак, у нас здесь трое из трех игроков NFL.</td>\n",
       "    </tr>\n",
       "    <tr>\n",
       "      <th>1</th>\n",
       "      <td>I mean, describe to us this Bullrun program where it's alleged that the NSA specifically weakened security in order to get the type of access that you've spoken of.</td>\n",
       "      <td>Расскажите нам о программе Bullrun, согласно которой АНБ якобы преднамеренно ослабляло безопасность коммуникаций, чтобы получить тот уровень доступа, о котором Вы говорите.</td>\n",
       "      <td>Я имею в виду, опишите нам эту программу Буллран, в которой утверждается, что АНБ специально ослабило безопасность, чтобы получить тот тип доступа, о котором вы говорили.</td>\n",
       "    </tr>\n",
       "    <tr>\n",
       "      <th>2</th>\n",
       "      <td>We live in a world where GDP is the benchmark of success in a global economy.</td>\n",
       "      <td>Мы живём в мире, где ВВП стал показателем успеха в мировой экономики.</td>\n",
       "      <td>Мы живем в мире, где GDP является эталоном успеха в глобальной экономике.</td>\n",
       "    </tr>\n",
       "    <tr>\n",
       "      <th>3</th>\n",
       "      <td>Okay, so the ALS Association, they think by year end, it'll be 160 million dollars.</td>\n",
       "      <td>Ассоциация БАС считает, что к концу года будет собрано 160 млн долларов.</td>\n",
       "      <td>Итак, Ассоциация ALS, по их мнению, к концу года получит 160 миллионов долларов.</td>\n",
       "    </tr>\n",
       "    <tr>\n",
       "      <th>4</th>\n",
       "      <td>Each person must know their HIV status.</td>\n",
       "      <td>Каждый человек должен знать свой ВИЧ-статус.</td>\n",
       "      <td>Каждый человек должен знать свой HIV-статус.</td>\n",
       "    </tr>\n",
       "  </tbody>\n",
       "</table>\n",
       "</div>"
      ],
      "text/plain": [
       "                                                                                                                                                                  source  \\\n",
       "0                                                                                                                          OK, we have three of three NFL players here.    \n",
       "1  I mean, describe to us this Bullrun program where it's alleged that the NSA specifically weakened security in order to get the type of access that you've spoken of.    \n",
       "2                                                                                         We live in a world where GDP is the benchmark of success in a global economy.    \n",
       "3                                                                                   Okay, so the ALS Association, they think by year end, it'll be 160 million dollars.    \n",
       "4                                                                                                                               Each person must know their HIV status.    \n",
       "\n",
       "                                                                                                                                                                       reference  \\\n",
       "0                                                                                                                                    Итак, у нас здесь три из трёх игроков НФЛ.    \n",
       "1  Расскажите нам о программе Bullrun, согласно которой АНБ якобы преднамеренно ослабляло безопасность коммуникаций, чтобы получить тот уровень доступа, о котором Вы говорите.    \n",
       "2                                                                                                         Мы живём в мире, где ВВП стал показателем успеха в мировой экономики.    \n",
       "3                                                                                                      Ассоциация БАС считает, что к концу года будет собрано 160 млн долларов.    \n",
       "4                                                                                                                                  Каждый человек должен знать свой ВИЧ-статус.    \n",
       "\n",
       "                                                                                                                                                                           mt  \n",
       "0                                                                                                                                 Итак, у нас здесь трое из трех игроков NFL.  \n",
       "1  Я имею в виду, опишите нам эту программу Буллран, в которой утверждается, что АНБ специально ослабило безопасность, чтобы получить тот тип доступа, о котором вы говорили.  \n",
       "2                                                                                                   Мы живем в мире, где GDP является эталоном успеха в глобальной экономике.  \n",
       "3                                                                                            Итак, Ассоциация ALS, по их мнению, к концу года получит 160 миллионов долларов.  \n",
       "4                                                                                                                                Каждый человек должен знать свой HIV-статус.  "
      ]
     },
     "execution_count": 8,
     "metadata": {},
     "output_type": "execute_result"
    }
   ],
   "source": [
    "segments_df = pd.read_excel(SOURCE_FILE)\n",
    "segments_df.head(1)"
   ]
  },
  {
   "cell_type": "code",
   "execution_count": 10,
   "id": "64384f7d",
   "metadata": {
    "colab": {
     "base_uri": "https://localhost:8080/",
     "height": 36
    },
    "executionInfo": {
     "elapsed": 394,
     "status": "ok",
     "timestamp": 1682355739798,
     "user": {
      "displayName": "Tamerlan Mukanov",
      "userId": "00277576829690841966"
     },
     "user_tz": -180
    },
    "id": "64384f7d",
    "outputId": "a69f01ec-5c3f-4459-deec-a87082600bfd"
   },
   "outputs": [
    {
     "data": {
      "application/vnd.google.colaboratory.intrinsic+json": {
       "type": "string"
      },
      "text/plain": [
       "'/content/drive/MyDrive/thesis/COMET'"
      ]
     },
     "execution_count": 10,
     "metadata": {},
     "output_type": "execute_result"
    }
   ],
   "source": [
    "os.chdir('/content/drive/MyDrive/thesis/COMET') \n",
    "os.getcwd()"
   ]
  },
  {
   "cell_type": "code",
   "execution_count": 11,
   "id": "08cd3881",
   "metadata": {
    "executionInfo": {
     "elapsed": 3597,
     "status": "ok",
     "timestamp": 1682355743391,
     "user": {
      "displayName": "Tamerlan Mukanov",
      "userId": "00277576829690841966"
     },
     "user_tz": -180
    },
    "id": "08cd3881"
   },
   "outputs": [],
   "source": [
    "import torch"
   ]
  },
  {
   "cell_type": "code",
   "execution_count": 12,
   "id": "2e55b31c",
   "metadata": {
    "executionInfo": {
     "elapsed": 5,
     "status": "ok",
     "timestamp": 1682355743391,
     "user": {
      "displayName": "Tamerlan Mukanov",
      "userId": "00277576829690841966"
     },
     "user_tz": -180
    },
    "id": "2e55b31c"
   },
   "outputs": [],
   "source": [
    "num_cores = 8\n",
    "torch.set_num_threads(num_cores)"
   ]
  },
  {
   "cell_type": "code",
   "execution_count": 14,
   "id": "a1af25a8",
   "metadata": {
    "executionInfo": {
     "elapsed": 5,
     "status": "ok",
     "timestamp": 1682355743392,
     "user": {
      "displayName": "Tamerlan Mukanov",
      "userId": "00277576829690841966"
     },
     "user_tz": -180
    },
    "id": "a1af25a8"
   },
   "outputs": [],
   "source": [
    "MODEL_AS_METRIC = 'wmt22-seqtag-mqm'"
   ]
  },
  {
   "cell_type": "markdown",
   "id": "o2Rj_YutB-G3",
   "metadata": {
    "id": "o2Rj_YutB-G3"
   },
   "source": [
    "Testing SeqTag on a couple of sentences"
   ]
  },
  {
   "cell_type": "code",
   "execution_count": 23,
   "id": "UFjCZnG9vFip",
   "metadata": {
    "executionInfo": {
     "elapsed": 22116,
     "status": "ok",
     "timestamp": 1682355877805,
     "user": {
      "displayName": "Tamerlan Mukanov",
      "userId": "00277576829690841966"
     },
     "user_tz": -180
    },
    "id": "UFjCZnG9vFip"
   },
   "outputs": [],
   "source": [
    "from comet import download_model, load_from_checkpoint"
   ]
  },
  {
   "cell_type": "code",
   "execution_count": 24,
   "id": "iQiOkKbNDD6A",
   "metadata": {
    "colab": {
     "base_uri": "https://localhost:8080/",
     "height": 150,
     "referenced_widgets": [
      "c566f03c2bd747c1acbed0fcd83ac930",
      "c487a3910c5044e5af1141a388b6e5d4",
      "7955c79182a74698bb3792f82dffdbfc",
      "68678c32ab49447f966f2b47da003142",
      "ec41f1245e744cd7b028bffcdea0a18e",
      "7f9061cd1d4a491a8064b62512ab96d8",
      "3051fb87dadf471f9650e12e3aa81a44",
      "0804dc80964d475c91f619331424c369",
      "2b1086b10ac8446d906a99e5cf66f1a1",
      "13866f8aa6dd4e39b2d1e313b231735b",
      "7c4159a1935640679709c619dd4f4651",
      "4853214d0b0144069388bc800615b969",
      "dfdaf3d4a37840f18769accda3f09891",
      "d9769f90dda146acb7876a4772c554ac",
      "bb413be2b94c481bbab6d68d16c80f8b",
      "46722524c2244531b40b4db7971aec60",
      "1520691b75ae455d8c66a38956a29932",
      "9a19007b93bb4a9caaa2a045930cadfb",
      "9f4b3ea1c5984904b8c0ced63182be52",
      "2e1af0d43bfc45d0899df6c0f2510e3e",
      "a4695a975e214c5799cca84349c7b91f",
      "c6423bec909545a4b4ced9763aebec23",
      "756192708a594b398ed3ddfde8a2f847",
      "8f2992202b1245698cec1ab553e572eb",
      "9eecc2deb8de42f6a06c83b76415d93d",
      "2ef56473bd8c470abbdd84bf227585bd",
      "0a9a18731c284917a81a6d97c227fb79",
      "ec5a095e980f462e9fbccfa2d96787ad",
      "adb2adec89ee4ebcb2a0fefd0aa9ae97",
      "51408301d6a34ed0b7a63e6914ef4ff1",
      "5f1a51074d30497d8632c1baff7c7166",
      "68048cfec56a46869920b0d97e9dc94e",
      "6c96202b4b214f8eb0e28e2903935550"
     ]
    },
    "executionInfo": {
     "elapsed": 40183,
     "status": "ok",
     "timestamp": 1682355917975,
     "user": {
      "displayName": "Tamerlan Mukanov",
      "userId": "00277576829690841966"
     },
     "user_tz": -180
    },
    "id": "iQiOkKbNDD6A",
    "outputId": "a7d3ebee-e45e-44c4-e003-da609c2e4cc9"
   },
   "outputs": [
    {
     "name": "stderr",
     "output_type": "stream",
     "text": [
      "INFO:pytorch_lightning.utilities.migration.utils:Lightning automatically upgraded your loaded checkpoint from v1.6.4 to v2.0.1. To apply the upgrade to your files permanently, run `python -m pytorch_lightning.utilities.upgrade_checkpoint --file wmt22-seqtag-mqm/checkpoints/model.ckpt`\n"
     ]
    },
    {
     "data": {
      "application/vnd.jupyter.widget-view+json": {
       "model_id": "c566f03c2bd747c1acbed0fcd83ac930",
       "version_major": 2,
       "version_minor": 0
      },
      "text/plain": [
       "Downloading (…)tencepiece.bpe.model:   0%|          | 0.00/5.07M [00:00<?, ?B/s]"
      ]
     },
     "metadata": {},
     "output_type": "display_data"
    },
    {
     "data": {
      "application/vnd.jupyter.widget-view+json": {
       "model_id": "4853214d0b0144069388bc800615b969",
       "version_major": 2,
       "version_minor": 0
      },
      "text/plain": [
       "Downloading (…)/main/tokenizer.json:   0%|          | 0.00/9.10M [00:00<?, ?B/s]"
      ]
     },
     "metadata": {},
     "output_type": "display_data"
    },
    {
     "data": {
      "application/vnd.jupyter.widget-view+json": {
       "model_id": "756192708a594b398ed3ddfde8a2f847",
       "version_major": 2,
       "version_minor": 0
      },
      "text/plain": [
       "Downloading (…)lve/main/config.json:   0%|          | 0.00/513 [00:00<?, ?B/s]"
      ]
     },
     "metadata": {},
     "output_type": "display_data"
    }
   ],
   "source": [
    "model = load_from_checkpoint('/content/drive/MyDrive/thesis/COMET/wmt22-seqtag-mqm/checkpoints/model.ckpt')"
   ]
  },
  {
   "cell_type": "code",
   "execution_count": 25,
   "id": "pJy_xxxBELo0",
   "metadata": {
    "executionInfo": {
     "elapsed": 19,
     "status": "ok",
     "timestamp": 1682355917976,
     "user": {
      "displayName": "Tamerlan Mukanov",
      "userId": "00277576829690841966"
     },
     "user_tz": -180
    },
    "id": "pJy_xxxBELo0"
   },
   "outputs": [],
   "source": [
    "data = [\n",
    "    {\n",
    "        \"src\": \"Dem Feuer konnte Einhalt geboten werden\",\n",
    "        \"mt\": \"The fire could be stopped\",\n",
    "        \"ref\": \"They were able to control the fire.\"\n",
    "    },\n",
    "    {\n",
    "        \"src\": \"Schulen und Kindergärten wurden eröffnet.\",\n",
    "        \"mt\": \"Schools and kindergartens were open\",\n",
    "        \"ref\": \"Schools and kindergartens opened\"\n",
    "    }\n",
    "]"
   ]
  },
  {
   "cell_type": "code",
   "execution_count": 27,
   "id": "gcYK8yaMDG8z",
   "metadata": {
    "colab": {
     "base_uri": "https://localhost:8080/"
    },
    "executionInfo": {
     "elapsed": 5816,
     "status": "ok",
     "timestamp": 1682355923777,
     "user": {
      "displayName": "Tamerlan Mukanov",
      "userId": "00277576829690841966"
     },
     "user_tz": -180
    },
    "id": "gcYK8yaMDG8z",
    "outputId": "0d15aeaa-292e-4476-c2c3-7edeb93f2050"
   },
   "outputs": [
    {
     "name": "stderr",
     "output_type": "stream",
     "text": [
      "INFO:pytorch_lightning.utilities.rank_zero:GPU available: True (cuda), used: True\n",
      "INFO:pytorch_lightning.utilities.rank_zero:TPU available: False, using: 0 TPU cores\n",
      "INFO:pytorch_lightning.utilities.rank_zero:IPU available: False, using: 0 IPUs\n",
      "INFO:pytorch_lightning.utilities.rank_zero:HPU available: False, using: 0 HPUs\n",
      "INFO:pytorch_lightning.accelerators.cuda:LOCAL_RANK: 0 - CUDA_VISIBLE_DEVICES: [0]\n",
      "Predicting DataLoader 0: 100%|██████████| 1/1 [00:00<00:00,  1.15it/s]\n"
     ]
    }
   ],
   "source": [
    "model_output = model.predict(data, batch_size=8, gpus=1)"
   ]
  },
  {
   "cell_type": "code",
   "execution_count": 28,
   "id": "fPTNd2kq7AEp",
   "metadata": {
    "colab": {
     "base_uri": "https://localhost:8080/"
    },
    "executionInfo": {
     "elapsed": 14,
     "status": "ok",
     "timestamp": 1682355923777,
     "user": {
      "displayName": "Tamerlan Mukanov",
      "userId": "00277576829690841966"
     },
     "user_tz": -180
    },
    "id": "fPTNd2kq7AEp",
    "outputId": "c2fadbf5-12ef-4ced-8048-ae1a507806a6",
    "scrolled": true
   },
   "outputs": [
    {
     "data": {
      "text/plain": [
       "Prediction([('scores', [0.6787528991699219, 0.7925233840942383]),\n",
       "            ('system_score', 0.7356381416320801),\n",
       "            ('metadata',\n",
       "             Prediction([('src_scores',\n",
       "                          [0.6785367727279663, 0.7679629325866699]),\n",
       "                         ('ref_scores',\n",
       "                          [0.7040753364562988, 0.8182905912399292]),\n",
       "                         ('unified_scores',\n",
       "                          [0.6536464691162109, 0.7913165092468262]),\n",
       "                         ('subword_scores',\n",
       "                          [[('▁The', 0.34047579765319824),\n",
       "                            ('▁fire', 0.5225199460983276),\n",
       "                            ('▁could', 0.4745945930480957),\n",
       "                            ('▁be', 0.4918487071990967),\n",
       "                            ('▁stopped', 0.6508753299713135)],\n",
       "                           [('▁School', 0.2730139493942261),\n",
       "                            ('s', 0.29079359769821167),\n",
       "                            ('▁and', 0.36390990018844604),\n",
       "                            ('▁kinder', 0.3829004764556885),\n",
       "                            ('garten', 0.2655251622200012),\n",
       "                            ('s', 0.2963985502719879),\n",
       "                            ('▁were', 0.447456419467926),\n",
       "                            ('▁open', 0.48006123304367065)]])]))])"
      ]
     },
     "execution_count": 28,
     "metadata": {},
     "output_type": "execute_result"
    }
   ],
   "source": [
    "model_output"
   ]
  },
  {
   "cell_type": "code",
   "execution_count": 29,
   "id": "e5e7b083",
   "metadata": {
    "executionInfo": {
     "elapsed": 2,
     "status": "ok",
     "timestamp": 1682355954649,
     "user": {
      "displayName": "Tamerlan Mukanov",
      "userId": "00277576829690841966"
     },
     "user_tz": -180
    },
    "id": "e5e7b083"
   },
   "outputs": [],
   "source": [
    "def comet_as_metric_func(\n",
    "    dataframe: pd.core.frame.DataFrame,  # type: ignore,\n",
    "    col_name_source: str,\n",
    "    col_name_hyp: str,\n",
    "    col_name_ref: str,\n",
    "    use_model: str,\n",
    "    gpus: int,\n",
    ") -> pd.core.frame.DataFrame:  # type: ignore\n",
    "\n",
    "    list_source = dataframe[col_name_source].to_list()\n",
    "    list_hyp = dataframe[col_name_hyp].to_list()\n",
    "    list_ref = dataframe[col_name_ref].to_list()\n",
    "\n",
    "    # load all\n",
    "\n",
    "    data = {\"src\": list_source, \"mt\": list_hyp, \"ref\": list_ref}\n",
    "    data = [dict(zip(data, t)) for t in zip(*data.values())]\n",
    "\n",
    "    from comet import download_model, load_from_checkpoint\n",
    "\n",
    "    model = load_from_checkpoint('/content/drive/MyDrive/thesis/COMET/wmt22-seqtag-mqm/checkpoints/model.ckpt')\n",
    "\n",
    "    model_output = model.predict(\n",
    "        data, gpus=gpus\n",
    "    )\n",
    "    word_scores = model_output.metadata.subword_scores\n",
    "    word_scores_sorted = []\n",
    "    for word_score in word_scores:\n",
    "        word_score = sorted(word_score,key=lambda x: x[1],reverse=True)[:20]\n",
    "        word_scores_sorted.append(word_score)\n",
    "    \n",
    "    scores_list, corpus_score = model_output.scores, model_output.system_score\n",
    "    \n",
    "    name_score = MODEL_AS_METRIC\n",
    "    dataframe[name_score] = scores_list\n",
    "    \n",
    "    dataframe['corpus score'] = corpus_score\n",
    "    \n",
    "    dataframe['word_scores'] = word_scores\n",
    "    \n",
    "    dataframe['errors'] = word_scores_sorted\n",
    "\n",
    "    return dataframe\n"
   ]
  },
  {
   "cell_type": "code",
   "execution_count": 30,
   "id": "e70c0a92",
   "metadata": {
    "colab": {
     "base_uri": "https://localhost:8080/"
    },
    "executionInfo": {
     "elapsed": 42805,
     "status": "ok",
     "timestamp": 1682356009405,
     "user": {
      "displayName": "Tamerlan Mukanov",
      "userId": "00277576829690841966"
     },
     "user_tz": -180
    },
    "id": "e70c0a92",
    "outputId": "f4ca435e-f321-4563-ca22-ecfdb5c7bc5e"
   },
   "outputs": [
    {
     "name": "stderr",
     "output_type": "stream",
     "text": [
      "INFO:pytorch_lightning.utilities.migration.utils:Lightning automatically upgraded your loaded checkpoint from v1.6.4 to v2.0.1. To apply the upgrade to your files permanently, run `python -m pytorch_lightning.utilities.upgrade_checkpoint --file wmt22-seqtag-mqm/checkpoints/model.ckpt`\n",
      "INFO:pytorch_lightning.utilities.rank_zero:GPU available: True (cuda), used: True\n",
      "INFO:pytorch_lightning.utilities.rank_zero:TPU available: False, using: 0 TPU cores\n",
      "INFO:pytorch_lightning.utilities.rank_zero:IPU available: False, using: 0 IPUs\n",
      "INFO:pytorch_lightning.utilities.rank_zero:HPU available: False, using: 0 HPUs\n",
      "INFO:pytorch_lightning.accelerators.cuda:LOCAL_RANK: 0 - CUDA_VISIBLE_DEVICES: [0]\n",
      "Predicting DataLoader 0: 100%|██████████| 25/25 [00:21<00:00,  1.17it/s]\n"
     ]
    }
   ],
   "source": [
    "segments_df = comet_as_metric_func(segments_df, \n",
    "                             col_name_source = 'source', \n",
    "                             col_name_hyp = 'mt', \n",
    "                             col_name_ref = 'reference',\n",
    "                             use_model = MODEL_AS_METRIC,\n",
    "                             gpus = 1)"
   ]
  },
  {
   "cell_type": "code",
   "execution_count": 31,
   "id": "d60cc9c4",
   "metadata": {
    "colab": {
     "base_uri": "https://localhost:8080/",
     "height": 1000
    },
    "executionInfo": {
     "elapsed": 983,
     "status": "ok",
     "timestamp": 1682356010766,
     "user": {
      "displayName": "Tamerlan Mukanov",
      "userId": "00277576829690841966"
     },
     "user_tz": -180
    },
    "id": "d60cc9c4",
    "outputId": "b30258e7-a792-475f-8cf1-ec1060f0c4e7"
   },
   "outputs": [
    {
     "data": {
      "text/html": [
       "\n",
       "  <div id=\"df-ec470a9c-023f-4bf6-9242-ea6d8b418422\">\n",
       "    <div class=\"colab-df-container\">\n",
       "      <div>\n",
       "<style scoped>\n",
       "    .dataframe tbody tr th:only-of-type {\n",
       "        vertical-align: middle;\n",
       "    }\n",
       "\n",
       "    .dataframe tbody tr th {\n",
       "        vertical-align: top;\n",
       "    }\n",
       "\n",
       "    .dataframe thead th {\n",
       "        text-align: right;\n",
       "    }\n",
       "</style>\n",
       "<table border=\"1\" class=\"dataframe\">\n",
       "  <thead>\n",
       "    <tr style=\"text-align: right;\">\n",
       "      <th></th>\n",
       "      <th>source</th>\n",
       "      <th>reference</th>\n",
       "      <th>mt</th>\n",
       "      <th>reason</th>\n",
       "      <th>wmt22-seqtag-mqm</th>\n",
       "      <th>corpus score</th>\n",
       "      <th>word_scores</th>\n",
       "      <th>errors</th>\n",
       "    </tr>\n",
       "  </thead>\n",
       "  <tbody>\n",
       "    <tr>\n",
       "      <th>0</th>\n",
       "      <td>OK, we have three of three NFL players here.</td>\n",
       "      <td>Итак, у нас здесь три из трёх игроков НФЛ.</td>\n",
       "      <td>Итак, у нас здесь трое из трех игроков NFL.</td>\n",
       "      <td>acronyms</td>\n",
       "      <td>0.601369</td>\n",
       "      <td>-0.311334</td>\n",
       "      <td>[(▁Итак, 0.1069316416978836), (,, 0.07770725339651108), (▁у, 0.09060796350240707), (▁нас, 0.08213721960783005), (▁здесь, 0.07255853712558746), (▁тро, 0.057215042412281036), (е, 0.10864969342947006), (▁из, 0.05544544383883476), (▁трех, 0.042844563722610474), (▁игроков, 0.06365104019641876), (▁NFL, 0.1273880898952484), (., 0.07495640963315964)]</td>\n",
       "      <td>[(▁NFL, 0.1273880898952484), (е, 0.10864969342947006), (▁Итак, 0.1069316416978836), (▁у, 0.09060796350240707), (▁нас, 0.08213721960783005), (,, 0.07770725339651108), (., 0.07495640963315964), (▁здесь, 0.07255853712558746), (▁игроков, 0.06365104019641876), (▁тро, 0.057215042412281036), (▁из, 0.05544544383883476), (▁трех, 0.042844563722610474)]</td>\n",
       "    </tr>\n",
       "    <tr>\n",
       "      <th>1</th>\n",
       "      <td>I mean, describe to us this Bullrun program where it's alleged that the NSA specifically weakened security in order to get the type of access that you've spoken of.</td>\n",
       "      <td>Расскажите нам о программе Bullrun, согласно которой АНБ якобы преднамеренно ослабляло безопасность коммуникаций, чтобы получить тот уровень доступа, о котором Вы говорите.</td>\n",
       "      <td>Я имею в виду, опишите нам эту программу Буллран, в которой утверждается, что АНБ специально ослабило безопасность, чтобы получить тот тип доступа, о котором вы говорили.</td>\n",
       "      <td>acronyms</td>\n",
       "      <td>0.045041</td>\n",
       "      <td>-0.311334</td>\n",
       "      <td>[(▁Я, 0.1389012187719345), (▁имею, 0.1648944914340973), (▁в, 0.05742048844695091), (▁виду, 0.13678967952728271), (,, 0.18801835179328918), (▁о, 0.20019179582595825), (пишите, 0.13455577194690704), (▁нам, 0.0882662758231163), (▁эту, 0.026207810267806053), (▁программу, 0.08424928784370422), (▁Бул, 0.6619203090667725), (л, 0.8324640989303589), (ран, 0.8820561170578003), (,, 0.1728247106075287), (▁в, 0.2123938500881195), (▁которой, 0.15930697321891785), (▁утверждает, 0.161564901471138), (ся, 0.08522588014602661), (,, 0.044819872826337814), (▁что, 0.017054015770554543), (▁АН, 0.060748156160116196), (Б, 0.03693024069070816), (▁специально, 0.047607116401195526), (▁о, 0.06707533448934555), (слаб, 0.06108957529067993), (ило, 0.040477968752384186), (▁безопасность, 0.06101026386022568), (,, 0.03389894217252731), (▁чтобы, 0.012669738382101059), (▁получить, 0.02784055843949318), (▁тот, 0.03133223578333855), (▁тип, 0.09789715707302094), (▁доступа, 0.07594802975654602), (,, 0.02961190603673458), (▁о, 0.03749142587184906), (▁котором, 0.034058380872011185), (▁вы, 0.11905922740697861), (▁говорили, 0.11533006280660629), (., 0.13715681433677673)]</td>\n",
       "      <td>[(ран, 0.8820561170578003), (л, 0.8324640989303589), (▁Бул, 0.6619203090667725), (▁в, 0.2123938500881195), (▁о, 0.20019179582595825), (,, 0.18801835179328918), (,, 0.1728247106075287), (▁имею, 0.1648944914340973), (▁утверждает, 0.161564901471138), (▁которой, 0.15930697321891785), (▁Я, 0.1389012187719345), (., 0.13715681433677673), (▁виду, 0.13678967952728271), (пишите, 0.13455577194690704), (▁вы, 0.11905922740697861), (▁говорили, 0.11533006280660629), (▁тип, 0.09789715707302094), (▁нам, 0.0882662758231163), (ся, 0.08522588014602661), (▁программу, 0.08424928784370422)]</td>\n",
       "    </tr>\n",
       "    <tr>\n",
       "      <th>2</th>\n",
       "      <td>We live in a world where GDP is the benchmark of success in a global economy.</td>\n",
       "      <td>Мы живём в мире, где ВВП стал показателем успеха в мировой экономики.</td>\n",
       "      <td>Мы живем в мире, где GDP является эталоном успеха в глобальной экономике.</td>\n",
       "      <td>acronyms</td>\n",
       "      <td>0.579424</td>\n",
       "      <td>-0.311334</td>\n",
       "      <td>[(▁Мы, 0.012581933289766312), (▁живе, 0.009849824011325836), (м, 0.012900669127702713), (▁в, 0.022077325731515884), (▁мире, 0.010033882223069668), (,, 0.013114986941218376), (▁где, 0.011364590376615524), (▁, 0.1476125717163086), (GDP, 0.3069528043270111), (▁является, 0.06641090661287308), (▁эта, 0.11156110465526581), (ло, 0.1742878258228302), (ном, 0.06380042433738708), (▁успеха, 0.024717746302485466), (▁в, 0.02475670538842678), (▁глобальн, 0.026891272515058517), (ой, 0.07394921779632568), (▁экономике, 0.02103700116276741), (., 0.02301166020333767)]</td>\n",
       "      <td>[(GDP, 0.3069528043270111), (ло, 0.1742878258228302), (▁, 0.1476125717163086), (▁эта, 0.11156110465526581), (ой, 0.07394921779632568), (▁является, 0.06641090661287308), (ном, 0.06380042433738708), (▁глобальн, 0.026891272515058517), (▁в, 0.02475670538842678), (▁успеха, 0.024717746302485466), (., 0.02301166020333767), (▁в, 0.022077325731515884), (▁экономике, 0.02103700116276741), (,, 0.013114986941218376), (м, 0.012900669127702713), (▁Мы, 0.012581933289766312), (▁где, 0.011364590376615524), (▁мире, 0.010033882223069668), (▁живе, 0.009849824011325836)]</td>\n",
       "    </tr>\n",
       "    <tr>\n",
       "      <th>3</th>\n",
       "      <td>Okay, so the ALS Association, they think by year end, it'll be 160 million dollars.</td>\n",
       "      <td>Ассоциация БАС считает, что к концу года будет собрано 160 млн долларов.</td>\n",
       "      <td>Итак, Ассоциация ALS, по их мнению, к концу года получит 160 миллионов долларов.</td>\n",
       "      <td>acronyms</td>\n",
       "      <td>-0.034038</td>\n",
       "      <td>-0.311334</td>\n",
       "      <td>[(▁Итак, 0.4232903718948364), (,, 0.1999836415052414), (▁Ас, 0.39962634444236755), (соци, 0.4153563380241394), (ация, 0.23021696507930756), (▁A, 0.8692757487297058), (LS, 0.8453407287597656), (,, 0.19485005736351013), (▁по, 0.0397845022380352), (▁их, 0.08091218769550323), (▁мнению, 0.07519985735416412), (,, 0.09660983085632324), (▁к, 0.055514320731163025), (▁концу, 0.031021974980831146), (▁года, 0.027943748980760574), (▁получи, 0.39457130432128906), (т, 0.21589915454387665), (▁160, 0.0722879096865654), (▁миллионов, 0.07766478508710861), (▁долларов, 0.1469871699810028), (., 0.36762917041778564)]</td>\n",
       "      <td>[(▁A, 0.8692757487297058), (LS, 0.8453407287597656), (▁Итак, 0.4232903718948364), (соци, 0.4153563380241394), (▁Ас, 0.39962634444236755), (▁получи, 0.39457130432128906), (., 0.36762917041778564), (ация, 0.23021696507930756), (т, 0.21589915454387665), (,, 0.1999836415052414), (,, 0.19485005736351013), (▁долларов, 0.1469871699810028), (,, 0.09660983085632324), (▁их, 0.08091218769550323), (▁миллионов, 0.07766478508710861), (▁мнению, 0.07519985735416412), (▁160, 0.0722879096865654), (▁к, 0.055514320731163025), (▁по, 0.0397845022380352), (▁концу, 0.031021974980831146)]</td>\n",
       "    </tr>\n",
       "    <tr>\n",
       "      <th>4</th>\n",
       "      <td>Each person must know their HIV status.</td>\n",
       "      <td>Каждый человек должен знать свой ВИЧ-статус.</td>\n",
       "      <td>Каждый человек должен знать свой HIV-статус.</td>\n",
       "      <td>acronyms</td>\n",
       "      <td>0.622769</td>\n",
       "      <td>-0.311334</td>\n",
       "      <td>[(▁Каждый, 0.019854936748743057), (▁человек, 0.02872910164296627), (▁должен, 0.024458736181259155), (▁знать, 0.02188253402709961), (▁свой, 0.025763263925909996), (▁HIV, 0.08281591534614563), (-, 0.09131084382534027), (стату, 0.07630757987499237), (с, 0.07245305180549622), (., 0.07669340074062347)]</td>\n",
       "      <td>[(-, 0.09131084382534027), (▁HIV, 0.08281591534614563), (., 0.07669340074062347), (стату, 0.07630757987499237), (с, 0.07245305180549622), (▁человек, 0.02872910164296627), (▁свой, 0.025763263925909996), (▁должен, 0.024458736181259155), (▁знать, 0.02188253402709961), (▁Каждый, 0.019854936748743057)]</td>\n",
       "    </tr>\n",
       "    <tr>\n",
       "      <th>5</th>\n",
       "      <td>I didn't attend the first TED back in 1984 but I've been to a lot of them since that time.</td>\n",
       "      <td>Я не был на первой конференции TED в 1984-м году, но с того времени я посетил многие из них.</td>\n",
       "      <td>Я не был на первом ТЭД в 1984 году, но с тех пор побывал на многих из них.</td>\n",
       "      <td>acronyms</td>\n",
       "      <td>0.438772</td>\n",
       "      <td>-0.311334</td>\n",
       "      <td>[(▁Я, 0.08156793564558029), (▁не, 0.03203075751662254), (▁был, 0.03987798094749451), (▁на, 0.053610529750585556), (▁первом, 0.049101125448942184), (▁Т, 0.40111637115478516), (ЭД, 0.4293723702430725), (▁в, 0.029554668813943863), (▁1984, 0.015284008346498013), (▁году, 0.01994304731488228), (,, 0.035653240978717804), (▁но, 0.04030495882034302), (▁с, 0.0431084930896759), (▁тех, 0.032190389931201935), (▁пор, 0.04375514015555382), (▁по, 0.15033608675003052), (бывал, 0.20075175166130066), (▁на, 0.12264221906661987), (▁многих, 0.03264036029577255), (▁из, 0.029803654178977013), (▁них, 0.06063668057322502), (., 0.034817688167095184)]</td>\n",
       "      <td>[(ЭД, 0.4293723702430725), (▁Т, 0.40111637115478516), (бывал, 0.20075175166130066), (▁по, 0.15033608675003052), (▁на, 0.12264221906661987), (▁Я, 0.08156793564558029), (▁них, 0.06063668057322502), (▁на, 0.053610529750585556), (▁первом, 0.049101125448942184), (▁пор, 0.04375514015555382), (▁с, 0.0431084930896759), (▁но, 0.04030495882034302), (▁был, 0.03987798094749451), (,, 0.035653240978717804), (., 0.034817688167095184), (▁многих, 0.03264036029577255), (▁тех, 0.032190389931201935), (▁не, 0.03203075751662254), (▁из, 0.029803654178977013), (▁в, 0.029554668813943863)]</td>\n",
       "    </tr>\n",
       "    <tr>\n",
       "      <th>6</th>\n",
       "      <td>Unfortunately, it's not NFL practice footage because the NFL thinks emergent technology is what happens when a submarine surfaces, but — (Laughter) — we do what we can.</td>\n",
       "      <td>К сожалению, это не ролик подготовки НФЛ, потому что НФЛ считает, что зарождающиеся технологии — это когда всплывает подводная лодка, но — (Смех) — мы делаем, что можем.</td>\n",
       "      <td>К сожалению, это не кадры с тренировок NFL, потому что NFL считает, что возникающие технологии — это то, что происходит, когда подводная лодка всплывает на поверхность, но — (Смех) — мы делаем, что можем.</td>\n",
       "      <td>acronyms</td>\n",
       "      <td>0.241543</td>\n",
       "      <td>-0.311334</td>\n",
       "      <td>[(▁К, 0.05146970599889755), (▁сожалению, 0.010325007140636444), (,, 0.027592284604907036), (▁это, 0.020250728353857994), (▁не, 0.03082127869129181), (▁кадр, 0.07352041453123093), (ы, 0.04714898020029068), (▁с, 0.05560958385467529), (▁трен, 0.11361293494701385), (иров, 0.10405667126178741), (ок, 0.04290694743394852), (▁NFL, 0.09281231462955475), (,, 0.03716914728283882), (▁потому, 0.015271160751581192), (▁что, 0.01443083118647337), (▁NFL, 0.14898984134197235), (▁считает, 0.030631383880972862), (,, 0.02914583683013916), (▁что, 0.015324991196393967), (▁возникающ, 0.40774625539779663), (ие, 0.1672370731830597), (▁технологии, 0.11245134472846985), (▁—, 0.14755631983280182), (▁это, 0.040389690548181534), (▁то, 0.0756664127111435), (,, 0.04755999147891998), (▁что, 0.03752816841006279), (▁происходит, 0.06807425618171692), (,, 0.05675157532095909), (▁когда, 0.03988111764192581), (▁под, 0.04136936366558075), (вод, 0.06357809156179428), (ная, 0.03942461311817169), (▁лодка, 0.03919323533773422), (▁вс, 0.10945328325033188), (пл, 0.10461366176605225), (ывает, 0.04087613523006439), (▁на, 0.08052660524845123), (▁поверх, 0.09068812429904938), (ность, 0.06385502219200134), (,, 0.06748117506504059), (▁но, 0.05384222790598869), (▁—, 0.14469966292381287), (▁(, 0.08222054690122604), (С, 0.07459482550621033), (ме, 0.07671047747135162), (х, 0.06277448683977127), (), 0.04796968400478363), (▁—, 0.09824484586715698), (▁мы, 0.036849185824394226), (▁дела, 0.03703073784708977), (ем, 0.03800685703754425), (,, 0.03357215225696564), (▁что, 0.0242844857275486), (▁можем, 0.030270103365182877), (., 0.07353605329990387)]</td>\n",
       "      <td>[(▁возникающ, 0.40774625539779663), (ие, 0.1672370731830597), (▁NFL, 0.14898984134197235), (▁—, 0.14755631983280182), (▁—, 0.14469966292381287), (▁трен, 0.11361293494701385), (▁технологии, 0.11245134472846985), (▁вс, 0.10945328325033188), (пл, 0.10461366176605225), (иров, 0.10405667126178741), (▁—, 0.09824484586715698), (▁NFL, 0.09281231462955475), (▁поверх, 0.09068812429904938), (▁(, 0.08222054690122604), (▁на, 0.08052660524845123), (ме, 0.07671047747135162), (▁то, 0.0756664127111435), (С, 0.07459482550621033), (., 0.07353605329990387), (▁кадр, 0.07352041453123093)]</td>\n",
       "    </tr>\n",
       "    <tr>\n",
       "      <th>7</th>\n",
       "      <td>So on our next project, we used more than eight hours to go live from a sheep to a sweater, and Jimmy Kimmel in the ABC show, he liked that.</td>\n",
       "      <td>Поэтому в нашем следующем проекте мы использовали более 8 часов прямого эфира, чтобы показать весь процесс от овец до свитеров. Джимми Киммелу, ведущему шоу на канале ABC, это понравилось.</td>\n",
       "      <td>Итак, в нашем следующем проекте мы потратили более восьми часов, чтобы в прямом эфире превратиться из овцы в свитер, и Джимми Киммелу в шоу АБС, ему это понравилось.</td>\n",
       "      <td>acronyms</td>\n",
       "      <td>-0.881613</td>\n",
       "      <td>-0.311334</td>\n",
       "      <td>[(▁Итак, 0.26899445056915283), (,, 0.12151022255420685), (▁в, 0.07741479575634003), (▁нашем, 0.06538411974906921), (▁следующем, 0.13439929485321045), (▁проект, 0.15168552100658417), (е, 0.11545571684837341), (▁мы, 0.1191149652004242), (▁пот, 0.2784747779369354), (рати, 0.27036339044570923), (ли, 0.07800516486167908), (▁более, 0.027597717940807343), (▁восьми, 0.0238517876714468), (▁часов, 0.06245608627796173), (,, 0.14245668053627014), (▁чтобы, 0.07669283449649811), (▁в, 0.2140468806028366), (▁прямо, 0.1625656932592392), (м, 0.3763011693954468), (▁эфир, 0.21998517215251923), (е, 0.2213536947965622), (▁преврат, 0.6084769368171692), (иться, 0.6148726940155029), (▁из, 0.40515023469924927), (▁, 0.34086698293685913), (ов, 0.37730011343955994), (цы, 0.3945764899253845), (▁в, 0.3606615960597992), (▁сви, 0.3698961138725281), (тер, 0.4276982247829437), (,, 0.42920398712158203), (▁и, 0.36543628573417664), (▁Джи, 0.4040989279747009), (м, 0.41551101207733154), (ми, 0.3748408555984497), (▁Ким, 0.4850495755672455), (ме, 0.5051762461662292), (лу, 0.5396932363510132), (▁в, 0.621336817741394), (▁шоу, 0.6880263686180115), (▁А, 0.7299985885620117), (БС, 0.7491008639335632), (,, 0.6539158821105957), (▁ему, 0.6164634227752686), (▁это, 0.3024657964706421), (▁понравилось, 0.4106441140174866), (., 0.27858859300613403)]</td>\n",
       "      <td>[(БС, 0.7491008639335632), (▁А, 0.7299985885620117), (▁шоу, 0.6880263686180115), (,, 0.6539158821105957), (▁в, 0.621336817741394), (▁ему, 0.6164634227752686), (иться, 0.6148726940155029), (▁преврат, 0.6084769368171692), (лу, 0.5396932363510132), (ме, 0.5051762461662292), (▁Ким, 0.4850495755672455), (,, 0.42920398712158203), (тер, 0.4276982247829437), (м, 0.41551101207733154), (▁понравилось, 0.4106441140174866), (▁из, 0.40515023469924927), (▁Джи, 0.4040989279747009), (цы, 0.3945764899253845), (ов, 0.37730011343955994), (м, 0.3763011693954468)]</td>\n",
       "    </tr>\n",
       "    <tr>\n",
       "      <th>8</th>\n",
       "      <td>The 1980s brought us Bill Gates, DOS, ATM machines to replace bank tellers, bar code scanning to cut down on labor in the retail sector.</td>\n",
       "      <td>80-е дали нам Билла Гейтса, DOS, банкоматы, которые заменили банковских служащих, штрих коды на товарах, что позволило упростить условия труда в сфере розничных продаж.</td>\n",
       "      <td>1980-е принесли нам Билла Гейтса, ДОС, банкоматы для замены банковских кассиров, сканирование штрих-кода для сокращения рабочей силы в секторе розничной торговли.</td>\n",
       "      <td>acronyms</td>\n",
       "      <td>0.372932</td>\n",
       "      <td>-0.311334</td>\n",
       "      <td>[(▁1980-, 0.02715260162949562), (е, 0.017699768766760826), (▁принес, 0.04152148962020874), (ли, 0.026795916259288788), (▁нам, 0.028096672147512436), (▁Бил, 0.01867472380399704), (ла, 0.01635109633207321), (▁Ге, 0.020125575363636017), (йт, 0.019637513905763626), (са, 0.013879540376365185), (,, 0.032006651163101196), (▁ДО, 0.08020267635583878), (С, 0.04438773915171623), (,, 0.05796493589878082), (▁банк, 0.028514644131064415), (ом, 0.03947979584336281), (аты, 0.019666338339447975), (▁для, 0.02371126040816307), (▁зам, 0.059867069125175476), (ены, 0.03265748545527458), (▁банков, 0.0552540048956871), (ских, 0.0170262660831213), (▁, 0.05618799850344658), (касс, 0.0987345427274704), (иров, 0.0645216703414917), (,, 0.0712953433394432), (▁скан, 0.1211746335029602), (ирование, 0.060284726321697235), (▁шт, 0.07693350315093994), (рих, 0.08955865353345871), (-, 0.09667088836431503), (ко, 0.0796755850315094), (да, 0.15119636058807373), (▁для, 0.04693309962749481), (▁сокращен, 0.13681569695472717), (ия, 0.04957976192235947), (▁рабочей, 0.10955949127674103), (▁силы, 0.14198897778987885), (▁в, 0.028892023488879204), (▁сектор, 0.03581758961081505), (е, 0.08463238179683685), (▁роз, 0.044849943369627), (ни, 0.05104649066925049), (чной, 0.018868526443839073), (▁торговли, 0.02964937686920166), (., 0.018046285957098007)]</td>\n",
       "      <td>[(да, 0.15119636058807373), (▁силы, 0.14198897778987885), (▁сокращен, 0.13681569695472717), (▁скан, 0.1211746335029602), (▁рабочей, 0.10955949127674103), (касс, 0.0987345427274704), (-, 0.09667088836431503), (рих, 0.08955865353345871), (е, 0.08463238179683685), (▁ДО, 0.08020267635583878), (ко, 0.0796755850315094), (▁шт, 0.07693350315093994), (,, 0.0712953433394432), (иров, 0.0645216703414917), (ирование, 0.060284726321697235), (▁зам, 0.059867069125175476), (,, 0.05796493589878082), (▁, 0.05618799850344658), (▁банков, 0.0552540048956871), (ни, 0.05104649066925049)]</td>\n",
       "    </tr>\n",
       "    <tr>\n",
       "      <th>9</th>\n",
       "      <td>What that means to an actual NSA analyst, someone like me who was working as an intelligence analyst targeting, Chinese cyber-hackers, things like that, in Hawaii, is the provenance of that data is directly from their servers.</td>\n",
       "      <td>Для аналитика АНБ, вроде меня, работавшего аналитиком разведки и ориентированного на китайских хакеров и тому подобных, на Гавайях, это значит, что данные были взяты непосредственно с серверов компаний.</td>\n",
       "      <td>Что это означает для настоящего аналитика NSA, такого как я, который работал аналитиком разведки, нацеленным на китайских кибер-хакеров и тому подобное на Гавайях, так это то, что происхождение этих данных происходит непосредственно с их серверов.</td>\n",
       "      <td>acronyms</td>\n",
       "      <td>0.049718</td>\n",
       "      <td>-0.311334</td>\n",
       "      <td>[(▁Что, 0.015264901332557201), (▁это, 0.015100007876753807), (▁означает, 0.03436340391635895), (▁для, 0.022612929344177246), (▁настоящего, 0.05853947997093201), (▁, 0.02885330282151699), (аналитик, 0.056518591940402985), (а, 0.03385099768638611), (▁N, 0.24448248744010925), (SA, 0.22094333171844482), (,, 0.03807085379958153), (▁такого, 0.031279612332582474), (▁как, 0.04045894742012024), (▁я, 0.041923873126506805), (,, 0.033273667097091675), (▁который, 0.03016963228583336), (▁, 0.08742531388998032), (работал, 0.04607957601547241), (▁, 0.06188591942191124), (аналитик, 0.18542692065238953), (ом, 0.09584667533636093), (▁развед, 0.23342502117156982), (ки, 0.17072546482086182), (,, 0.16218315064907074), (▁на, 0.40577954053878784), (цел, 0.40192970633506775), (енным, 0.189337819814682), (▁на, 0.15237653255462646), (▁китайски, 0.0709388330578804), (х, 0.05512624233961105), (▁кибер, 0.23797515034675598), (-, 0.2759382128715515), (ха, 0.17793963849544525), (кер, 0.08317197859287262), (ов, 0.08787037432193756), (▁и, 0.15954534709453583), (▁тому, 0.34311842918395996), (▁подобно, 0.28648823499679565), (е, 0.2482164353132248), (▁на, 0.11360588669776917), (▁Га, 0.0930405855178833), (вай, 0.07105773687362671), (ях, 0.06719668209552765), (,, 0.04562830552458763), (▁так, 0.031109489500522614), (▁это, 0.02020128443837166), (▁то, 0.023863857612013817), (,, 0.0187632218003273), (▁что, 0.011504918336868286), (▁про, 0.04764596372842789), (ис, 0.14648941159248352), (хождение, 0.10158421844244003), (▁этих, 0.020020676776766777), (▁данных, 0.04698200523853302), (▁происходит, 0.24747532606124878), (▁непосредственно, 0.039575472474098206), (▁с, 0.10513070225715637), (▁их, 0.08289994299411774), (▁сервер, 0.08138740062713623), (ов, 0.05849714204668999), (., 0.03965380787849426)]</td>\n",
       "      <td>[(▁на, 0.40577954053878784), (цел, 0.40192970633506775), (▁тому, 0.34311842918395996), (▁подобно, 0.28648823499679565), (-, 0.2759382128715515), (е, 0.2482164353132248), (▁происходит, 0.24747532606124878), (▁N, 0.24448248744010925), (▁кибер, 0.23797515034675598), (▁развед, 0.23342502117156982), (SA, 0.22094333171844482), (енным, 0.189337819814682), (аналитик, 0.18542692065238953), (ха, 0.17793963849544525), (ки, 0.17072546482086182), (,, 0.16218315064907074), (▁и, 0.15954534709453583), (▁на, 0.15237653255462646), (ис, 0.14648941159248352), (▁на, 0.11360588669776917)]</td>\n",
       "    </tr>\n",
       "  </tbody>\n",
       "</table>\n",
       "</div>\n",
       "      <button class=\"colab-df-convert\" onclick=\"convertToInteractive('df-ec470a9c-023f-4bf6-9242-ea6d8b418422')\"\n",
       "              title=\"Convert this dataframe to an interactive table.\"\n",
       "              style=\"display:none;\">\n",
       "        \n",
       "  <svg xmlns=\"http://www.w3.org/2000/svg\" height=\"24px\"viewBox=\"0 0 24 24\"\n",
       "       width=\"24px\">\n",
       "    <path d=\"M0 0h24v24H0V0z\" fill=\"none\"/>\n",
       "    <path d=\"M18.56 5.44l.94 2.06.94-2.06 2.06-.94-2.06-.94-.94-2.06-.94 2.06-2.06.94zm-11 1L8.5 8.5l.94-2.06 2.06-.94-2.06-.94L8.5 2.5l-.94 2.06-2.06.94zm10 10l.94 2.06.94-2.06 2.06-.94-2.06-.94-.94-2.06-.94 2.06-2.06.94z\"/><path d=\"M17.41 7.96l-1.37-1.37c-.4-.4-.92-.59-1.43-.59-.52 0-1.04.2-1.43.59L10.3 9.45l-7.72 7.72c-.78.78-.78 2.05 0 2.83L4 21.41c.39.39.9.59 1.41.59.51 0 1.02-.2 1.41-.59l7.78-7.78 2.81-2.81c.8-.78.8-2.07 0-2.86zM5.41 20L4 18.59l7.72-7.72 1.47 1.35L5.41 20z\"/>\n",
       "  </svg>\n",
       "      </button>\n",
       "      \n",
       "  <style>\n",
       "    .colab-df-container {\n",
       "      display:flex;\n",
       "      flex-wrap:wrap;\n",
       "      gap: 12px;\n",
       "    }\n",
       "\n",
       "    .colab-df-convert {\n",
       "      background-color: #E8F0FE;\n",
       "      border: none;\n",
       "      border-radius: 50%;\n",
       "      cursor: pointer;\n",
       "      display: none;\n",
       "      fill: #1967D2;\n",
       "      height: 32px;\n",
       "      padding: 0 0 0 0;\n",
       "      width: 32px;\n",
       "    }\n",
       "\n",
       "    .colab-df-convert:hover {\n",
       "      background-color: #E2EBFA;\n",
       "      box-shadow: 0px 1px 2px rgba(60, 64, 67, 0.3), 0px 1px 3px 1px rgba(60, 64, 67, 0.15);\n",
       "      fill: #174EA6;\n",
       "    }\n",
       "\n",
       "    [theme=dark] .colab-df-convert {\n",
       "      background-color: #3B4455;\n",
       "      fill: #D2E3FC;\n",
       "    }\n",
       "\n",
       "    [theme=dark] .colab-df-convert:hover {\n",
       "      background-color: #434B5C;\n",
       "      box-shadow: 0px 1px 3px 1px rgba(0, 0, 0, 0.15);\n",
       "      filter: drop-shadow(0px 1px 2px rgba(0, 0, 0, 0.3));\n",
       "      fill: #FFFFFF;\n",
       "    }\n",
       "  </style>\n",
       "\n",
       "      <script>\n",
       "        const buttonEl =\n",
       "          document.querySelector('#df-ec470a9c-023f-4bf6-9242-ea6d8b418422 button.colab-df-convert');\n",
       "        buttonEl.style.display =\n",
       "          google.colab.kernel.accessAllowed ? 'block' : 'none';\n",
       "\n",
       "        async function convertToInteractive(key) {\n",
       "          const element = document.querySelector('#df-ec470a9c-023f-4bf6-9242-ea6d8b418422');\n",
       "          const dataTable =\n",
       "            await google.colab.kernel.invokeFunction('convertToInteractive',\n",
       "                                                     [key], {});\n",
       "          if (!dataTable) return;\n",
       "\n",
       "          const docLinkHtml = 'Like what you see? Visit the ' +\n",
       "            '<a target=\"_blank\" href=https://colab.research.google.com/notebooks/data_table.ipynb>data table notebook</a>'\n",
       "            + ' to learn more about interactive tables.';\n",
       "          element.innerHTML = '';\n",
       "          dataTable['output_type'] = 'display_data';\n",
       "          await google.colab.output.renderOutput(dataTable, element);\n",
       "          const docLink = document.createElement('div');\n",
       "          docLink.innerHTML = docLinkHtml;\n",
       "          element.appendChild(docLink);\n",
       "        }\n",
       "      </script>\n",
       "    </div>\n",
       "  </div>\n",
       "  "
      ],
      "text/plain": [
       "                                                                                                                                                                                                                                source  \\\n",
       "0                                                                                                                                                                                        OK, we have three of three NFL players here.    \n",
       "1                                                                I mean, describe to us this Bullrun program where it's alleged that the NSA specifically weakened security in order to get the type of access that you've spoken of.    \n",
       "2                                                                                                                                                       We live in a world where GDP is the benchmark of success in a global economy.    \n",
       "3                                                                                                                                                 Okay, so the ALS Association, they think by year end, it'll be 160 million dollars.    \n",
       "4                                                                                                                                                                                             Each person must know their HIV status.    \n",
       "5                                                                                                                                          I didn't attend the first TED back in 1984 but I've been to a lot of them since that time.    \n",
       "6                                                            Unfortunately, it's not NFL practice footage because the NFL thinks emergent technology is what happens when a submarine surfaces, but — (Laughter) — we do what we can.    \n",
       "7                                                                                        So on our next project, we used more than eight hours to go live from a sheep to a sweater, and Jimmy Kimmel in the ABC show, he liked that.    \n",
       "8                                                                                            The 1980s brought us Bill Gates, DOS, ATM machines to replace bank tellers, bar code scanning to cut down on labor in the retail sector.    \n",
       "9  What that means to an actual NSA analyst, someone like me who was working as an intelligence analyst targeting, Chinese cyber-hackers, things like that, in Hawaii, is the provenance of that data is directly from their servers.    \n",
       "\n",
       "                                                                                                                                                                                                     reference  \\\n",
       "0                                                                                                                                                                  Итак, у нас здесь три из трёх игроков НФЛ.    \n",
       "1                                Расскажите нам о программе Bullrun, согласно которой АНБ якобы преднамеренно ослабляло безопасность коммуникаций, чтобы получить тот уровень доступа, о котором Вы говорите.    \n",
       "2                                                                                                                                       Мы живём в мире, где ВВП стал показателем успеха в мировой экономики.    \n",
       "3                                                                                                                                    Ассоциация БАС считает, что к концу года будет собрано 160 млн долларов.    \n",
       "4                                                                                                                                                                Каждый человек должен знать свой ВИЧ-статус.    \n",
       "5                                                                                                                Я не был на первой конференции TED в 1984-м году, но с того времени я посетил многие из них.    \n",
       "6                                   К сожалению, это не ролик подготовки НФЛ, потому что НФЛ считает, что зарождающиеся технологии — это когда всплывает подводная лодка, но — (Смех) — мы делаем, что можем.    \n",
       "7                Поэтому в нашем следующем проекте мы использовали более 8 часов прямого эфира, чтобы показать весь процесс от овец до свитеров. Джимми Киммелу, ведущему шоу на канале ABC, это понравилось.    \n",
       "8                                    80-е дали нам Билла Гейтса, DOS, банкоматы, которые заменили банковских служащих, штрих коды на товарах, что позволило упростить условия труда в сфере розничных продаж.    \n",
       "9  Для аналитика АНБ, вроде меня, работавшего аналитиком разведки и ориентированного на китайских хакеров и тому подобных, на Гавайях, это значит, что данные были взяты непосредственно с серверов компаний.    \n",
       "\n",
       "                                                                                                                                                                                                                                                        mt  \\\n",
       "0                                                                                                                                                                                                              Итак, у нас здесь трое из трех игроков NFL.   \n",
       "1                                                                               Я имею в виду, опишите нам эту программу Буллран, в которой утверждается, что АНБ специально ослабило безопасность, чтобы получить тот тип доступа, о котором вы говорили.   \n",
       "2                                                                                                                                                                                Мы живем в мире, где GDP является эталоном успеха в глобальной экономике.   \n",
       "3                                                                                                                                                                         Итак, Ассоциация ALS, по их мнению, к концу года получит 160 миллионов долларов.   \n",
       "4                                                                                                                                                                                                             Каждый человек должен знать свой HIV-статус.   \n",
       "5                                                                                                                                                                               Я не был на первом ТЭД в 1984 году, но с тех пор побывал на многих из них.   \n",
       "6                                             К сожалению, это не кадры с тренировок NFL, потому что NFL считает, что возникающие технологии — это то, что происходит, когда подводная лодка всплывает на поверхность, но — (Смех) — мы делаем, что можем.   \n",
       "7                                                                                    Итак, в нашем следующем проекте мы потратили более восьми часов, чтобы в прямом эфире превратиться из овцы в свитер, и Джимми Киммелу в шоу АБС, ему это понравилось.   \n",
       "8                                                                                       1980-е принесли нам Билла Гейтса, ДОС, банкоматы для замены банковских кассиров, сканирование штрих-кода для сокращения рабочей силы в секторе розничной торговли.   \n",
       "9  Что это означает для настоящего аналитика NSA, такого как я, который работал аналитиком разведки, нацеленным на китайских кибер-хакеров и тому подобное на Гавайях, так это то, что происхождение этих данных происходит непосредственно с их серверов.   \n",
       "\n",
       "     reason  wmt22-seqtag-mqm  corpus score  \\\n",
       "0  acronyms          0.601369     -0.311334   \n",
       "1  acronyms          0.045041     -0.311334   \n",
       "2  acronyms          0.579424     -0.311334   \n",
       "3  acronyms         -0.034038     -0.311334   \n",
       "4  acronyms          0.622769     -0.311334   \n",
       "5  acronyms          0.438772     -0.311334   \n",
       "6  acronyms          0.241543     -0.311334   \n",
       "7  acronyms         -0.881613     -0.311334   \n",
       "8  acronyms          0.372932     -0.311334   \n",
       "9  acronyms          0.049718     -0.311334   \n",
       "\n",
       "                                                                                                                                                                                                                                                                                                                                                                                                                                                                                                                                                                                                                                                                                                                                                                                                                                                                                                                                                                                                                                                                                                                                                                                                                                                                                                                                                                                                                                                                                                                                                                                                                                                                                                                                                                                                                                          word_scores  \\\n",
       "0                                                                                                                                                                                                                                                                                                                                                                                                                                                                                                                                                                                                                                                                                                                                                                                                                                                                                                                                                                                                                                                                                                                                                                                                                                                                                                                                                                                                                                                                                            [(▁Итак, 0.1069316416978836), (,, 0.07770725339651108), (▁у, 0.09060796350240707), (▁нас, 0.08213721960783005), (▁здесь, 0.07255853712558746), (▁тро, 0.057215042412281036), (е, 0.10864969342947006), (▁из, 0.05544544383883476), (▁трех, 0.042844563722610474), (▁игроков, 0.06365104019641876), (▁NFL, 0.1273880898952484), (., 0.07495640963315964)]   \n",
       "1                                                                                                                                                                                                                                                                                                                                                                                                                                                                                                                                                                                                                                                            [(▁Я, 0.1389012187719345), (▁имею, 0.1648944914340973), (▁в, 0.05742048844695091), (▁виду, 0.13678967952728271), (,, 0.18801835179328918), (▁о, 0.20019179582595825), (пишите, 0.13455577194690704), (▁нам, 0.0882662758231163), (▁эту, 0.026207810267806053), (▁программу, 0.08424928784370422), (▁Бул, 0.6619203090667725), (л, 0.8324640989303589), (ран, 0.8820561170578003), (,, 0.1728247106075287), (▁в, 0.2123938500881195), (▁которой, 0.15930697321891785), (▁утверждает, 0.161564901471138), (ся, 0.08522588014602661), (,, 0.044819872826337814), (▁что, 0.017054015770554543), (▁АН, 0.060748156160116196), (Б, 0.03693024069070816), (▁специально, 0.047607116401195526), (▁о, 0.06707533448934555), (слаб, 0.06108957529067993), (ило, 0.040477968752384186), (▁безопасность, 0.06101026386022568), (,, 0.03389894217252731), (▁чтобы, 0.012669738382101059), (▁получить, 0.02784055843949318), (▁тот, 0.03133223578333855), (▁тип, 0.09789715707302094), (▁доступа, 0.07594802975654602), (,, 0.02961190603673458), (▁о, 0.03749142587184906), (▁котором, 0.034058380872011185), (▁вы, 0.11905922740697861), (▁говорили, 0.11533006280660629), (., 0.13715681433677673)]   \n",
       "2                                                                                                                                                                                                                                                                                                                                                                                                                                                                                                                                                                                                                                                                                                                                                                                                                                                                                                                                                                                                                                                                                                                                                                                                                                                                         [(▁Мы, 0.012581933289766312), (▁живе, 0.009849824011325836), (м, 0.012900669127702713), (▁в, 0.022077325731515884), (▁мире, 0.010033882223069668), (,, 0.013114986941218376), (▁где, 0.011364590376615524), (▁, 0.1476125717163086), (GDP, 0.3069528043270111), (▁является, 0.06641090661287308), (▁эта, 0.11156110465526581), (ло, 0.1742878258228302), (ном, 0.06380042433738708), (▁успеха, 0.024717746302485466), (▁в, 0.02475670538842678), (▁глобальн, 0.026891272515058517), (ой, 0.07394921779632568), (▁экономике, 0.02103700116276741), (., 0.02301166020333767)]   \n",
       "3                                                                                                                                                                                                                                                                                                                                                                                                                                                                                                                                                                                                                                                                                                                                                                                                                                                                                                                                                                                                                                                                                                                                                                                                                           [(▁Итак, 0.4232903718948364), (,, 0.1999836415052414), (▁Ас, 0.39962634444236755), (соци, 0.4153563380241394), (ация, 0.23021696507930756), (▁A, 0.8692757487297058), (LS, 0.8453407287597656), (,, 0.19485005736351013), (▁по, 0.0397845022380352), (▁их, 0.08091218769550323), (▁мнению, 0.07519985735416412), (,, 0.09660983085632324), (▁к, 0.055514320731163025), (▁концу, 0.031021974980831146), (▁года, 0.027943748980760574), (▁получи, 0.39457130432128906), (т, 0.21589915454387665), (▁160, 0.0722879096865654), (▁миллионов, 0.07766478508710861), (▁долларов, 0.1469871699810028), (., 0.36762917041778564)]   \n",
       "4                                                                                                                                                                                                                                                                                                                                                                                                                                                                                                                                                                                                                                                                                                                                                                                                                                                                                                                                                                                                                                                                                                                                                                                                                                                                                                                                                                                                                                                                                                                                          [(▁Каждый, 0.019854936748743057), (▁человек, 0.02872910164296627), (▁должен, 0.024458736181259155), (▁знать, 0.02188253402709961), (▁свой, 0.025763263925909996), (▁HIV, 0.08281591534614563), (-, 0.09131084382534027), (стату, 0.07630757987499237), (с, 0.07245305180549622), (., 0.07669340074062347)]   \n",
       "5                                                                                                                                                                                                                                                                                                                                                                                                                                                                                                                                                                                                                                                                                                                                                                                                                                                                                                                                                                                                                                                                                                                                                                                             [(▁Я, 0.08156793564558029), (▁не, 0.03203075751662254), (▁был, 0.03987798094749451), (▁на, 0.053610529750585556), (▁первом, 0.049101125448942184), (▁Т, 0.40111637115478516), (ЭД, 0.4293723702430725), (▁в, 0.029554668813943863), (▁1984, 0.015284008346498013), (▁году, 0.01994304731488228), (,, 0.035653240978717804), (▁но, 0.04030495882034302), (▁с, 0.0431084930896759), (▁тех, 0.032190389931201935), (▁пор, 0.04375514015555382), (▁по, 0.15033608675003052), (бывал, 0.20075175166130066), (▁на, 0.12264221906661987), (▁многих, 0.03264036029577255), (▁из, 0.029803654178977013), (▁них, 0.06063668057322502), (., 0.034817688167095184)]   \n",
       "6                                                                                                                                                                         [(▁К, 0.05146970599889755), (▁сожалению, 0.010325007140636444), (,, 0.027592284604907036), (▁это, 0.020250728353857994), (▁не, 0.03082127869129181), (▁кадр, 0.07352041453123093), (ы, 0.04714898020029068), (▁с, 0.05560958385467529), (▁трен, 0.11361293494701385), (иров, 0.10405667126178741), (ок, 0.04290694743394852), (▁NFL, 0.09281231462955475), (,, 0.03716914728283882), (▁потому, 0.015271160751581192), (▁что, 0.01443083118647337), (▁NFL, 0.14898984134197235), (▁считает, 0.030631383880972862), (,, 0.02914583683013916), (▁что, 0.015324991196393967), (▁возникающ, 0.40774625539779663), (ие, 0.1672370731830597), (▁технологии, 0.11245134472846985), (▁—, 0.14755631983280182), (▁это, 0.040389690548181534), (▁то, 0.0756664127111435), (,, 0.04755999147891998), (▁что, 0.03752816841006279), (▁происходит, 0.06807425618171692), (,, 0.05675157532095909), (▁когда, 0.03988111764192581), (▁под, 0.04136936366558075), (вод, 0.06357809156179428), (ная, 0.03942461311817169), (▁лодка, 0.03919323533773422), (▁вс, 0.10945328325033188), (пл, 0.10461366176605225), (ывает, 0.04087613523006439), (▁на, 0.08052660524845123), (▁поверх, 0.09068812429904938), (ность, 0.06385502219200134), (,, 0.06748117506504059), (▁но, 0.05384222790598869), (▁—, 0.14469966292381287), (▁(, 0.08222054690122604), (С, 0.07459482550621033), (ме, 0.07671047747135162), (х, 0.06277448683977127), (), 0.04796968400478363), (▁—, 0.09824484586715698), (▁мы, 0.036849185824394226), (▁дела, 0.03703073784708977), (ем, 0.03800685703754425), (,, 0.03357215225696564), (▁что, 0.0242844857275486), (▁можем, 0.030270103365182877), (., 0.07353605329990387)]   \n",
       "7                                                                                                                                                                                                                                                                                                                                                                                                                                                                                 [(▁Итак, 0.26899445056915283), (,, 0.12151022255420685), (▁в, 0.07741479575634003), (▁нашем, 0.06538411974906921), (▁следующем, 0.13439929485321045), (▁проект, 0.15168552100658417), (е, 0.11545571684837341), (▁мы, 0.1191149652004242), (▁пот, 0.2784747779369354), (рати, 0.27036339044570923), (ли, 0.07800516486167908), (▁более, 0.027597717940807343), (▁восьми, 0.0238517876714468), (▁часов, 0.06245608627796173), (,, 0.14245668053627014), (▁чтобы, 0.07669283449649811), (▁в, 0.2140468806028366), (▁прямо, 0.1625656932592392), (м, 0.3763011693954468), (▁эфир, 0.21998517215251923), (е, 0.2213536947965622), (▁преврат, 0.6084769368171692), (иться, 0.6148726940155029), (▁из, 0.40515023469924927), (▁, 0.34086698293685913), (ов, 0.37730011343955994), (цы, 0.3945764899253845), (▁в, 0.3606615960597992), (▁сви, 0.3698961138725281), (тер, 0.4276982247829437), (,, 0.42920398712158203), (▁и, 0.36543628573417664), (▁Джи, 0.4040989279747009), (м, 0.41551101207733154), (ми, 0.3748408555984497), (▁Ким, 0.4850495755672455), (ме, 0.5051762461662292), (лу, 0.5396932363510132), (▁в, 0.621336817741394), (▁шоу, 0.6880263686180115), (▁А, 0.7299985885620117), (БС, 0.7491008639335632), (,, 0.6539158821105957), (▁ему, 0.6164634227752686), (▁это, 0.3024657964706421), (▁понравилось, 0.4106441140174866), (., 0.27858859300613403)]   \n",
       "8                                                                                                                                                                                                                                                                                                                                                                                                                                                                              [(▁1980-, 0.02715260162949562), (е, 0.017699768766760826), (▁принес, 0.04152148962020874), (ли, 0.026795916259288788), (▁нам, 0.028096672147512436), (▁Бил, 0.01867472380399704), (ла, 0.01635109633207321), (▁Ге, 0.020125575363636017), (йт, 0.019637513905763626), (са, 0.013879540376365185), (,, 0.032006651163101196), (▁ДО, 0.08020267635583878), (С, 0.04438773915171623), (,, 0.05796493589878082), (▁банк, 0.028514644131064415), (ом, 0.03947979584336281), (аты, 0.019666338339447975), (▁для, 0.02371126040816307), (▁зам, 0.059867069125175476), (ены, 0.03265748545527458), (▁банков, 0.0552540048956871), (ских, 0.0170262660831213), (▁, 0.05618799850344658), (касс, 0.0987345427274704), (иров, 0.0645216703414917), (,, 0.0712953433394432), (▁скан, 0.1211746335029602), (ирование, 0.060284726321697235), (▁шт, 0.07693350315093994), (рих, 0.08955865353345871), (-, 0.09667088836431503), (ко, 0.0796755850315094), (да, 0.15119636058807373), (▁для, 0.04693309962749481), (▁сокращен, 0.13681569695472717), (ия, 0.04957976192235947), (▁рабочей, 0.10955949127674103), (▁силы, 0.14198897778987885), (▁в, 0.028892023488879204), (▁сектор, 0.03581758961081505), (е, 0.08463238179683685), (▁роз, 0.044849943369627), (ни, 0.05104649066925049), (чной, 0.018868526443839073), (▁торговли, 0.02964937686920166), (., 0.018046285957098007)]   \n",
       "9  [(▁Что, 0.015264901332557201), (▁это, 0.015100007876753807), (▁означает, 0.03436340391635895), (▁для, 0.022612929344177246), (▁настоящего, 0.05853947997093201), (▁, 0.02885330282151699), (аналитик, 0.056518591940402985), (а, 0.03385099768638611), (▁N, 0.24448248744010925), (SA, 0.22094333171844482), (,, 0.03807085379958153), (▁такого, 0.031279612332582474), (▁как, 0.04045894742012024), (▁я, 0.041923873126506805), (,, 0.033273667097091675), (▁который, 0.03016963228583336), (▁, 0.08742531388998032), (работал, 0.04607957601547241), (▁, 0.06188591942191124), (аналитик, 0.18542692065238953), (ом, 0.09584667533636093), (▁развед, 0.23342502117156982), (ки, 0.17072546482086182), (,, 0.16218315064907074), (▁на, 0.40577954053878784), (цел, 0.40192970633506775), (енным, 0.189337819814682), (▁на, 0.15237653255462646), (▁китайски, 0.0709388330578804), (х, 0.05512624233961105), (▁кибер, 0.23797515034675598), (-, 0.2759382128715515), (ха, 0.17793963849544525), (кер, 0.08317197859287262), (ов, 0.08787037432193756), (▁и, 0.15954534709453583), (▁тому, 0.34311842918395996), (▁подобно, 0.28648823499679565), (е, 0.2482164353132248), (▁на, 0.11360588669776917), (▁Га, 0.0930405855178833), (вай, 0.07105773687362671), (ях, 0.06719668209552765), (,, 0.04562830552458763), (▁так, 0.031109489500522614), (▁это, 0.02020128443837166), (▁то, 0.023863857612013817), (,, 0.0187632218003273), (▁что, 0.011504918336868286), (▁про, 0.04764596372842789), (ис, 0.14648941159248352), (хождение, 0.10158421844244003), (▁этих, 0.020020676776766777), (▁данных, 0.04698200523853302), (▁происходит, 0.24747532606124878), (▁непосредственно, 0.039575472474098206), (▁с, 0.10513070225715637), (▁их, 0.08289994299411774), (▁сервер, 0.08138740062713623), (ов, 0.05849714204668999), (., 0.03965380787849426)]   \n",
       "\n",
       "                                                                                                                                                                                                                                                                                                                                                                                                                                                                                                                                                                                           errors  \n",
       "0                                                                                                                                                                                                                                        [(▁NFL, 0.1273880898952484), (е, 0.10864969342947006), (▁Итак, 0.1069316416978836), (▁у, 0.09060796350240707), (▁нас, 0.08213721960783005), (,, 0.07770725339651108), (., 0.07495640963315964), (▁здесь, 0.07255853712558746), (▁игроков, 0.06365104019641876), (▁тро, 0.057215042412281036), (▁из, 0.05544544383883476), (▁трех, 0.042844563722610474)]  \n",
       "1  [(ран, 0.8820561170578003), (л, 0.8324640989303589), (▁Бул, 0.6619203090667725), (▁в, 0.2123938500881195), (▁о, 0.20019179582595825), (,, 0.18801835179328918), (,, 0.1728247106075287), (▁имею, 0.1648944914340973), (▁утверждает, 0.161564901471138), (▁которой, 0.15930697321891785), (▁Я, 0.1389012187719345), (., 0.13715681433677673), (▁виду, 0.13678967952728271), (пишите, 0.13455577194690704), (▁вы, 0.11905922740697861), (▁говорили, 0.11533006280660629), (▁тип, 0.09789715707302094), (▁нам, 0.0882662758231163), (ся, 0.08522588014602661), (▁программу, 0.08424928784370422)]  \n",
       "2                     [(GDP, 0.3069528043270111), (ло, 0.1742878258228302), (▁, 0.1476125717163086), (▁эта, 0.11156110465526581), (ой, 0.07394921779632568), (▁является, 0.06641090661287308), (ном, 0.06380042433738708), (▁глобальн, 0.026891272515058517), (▁в, 0.02475670538842678), (▁успеха, 0.024717746302485466), (., 0.02301166020333767), (▁в, 0.022077325731515884), (▁экономике, 0.02103700116276741), (,, 0.013114986941218376), (м, 0.012900669127702713), (▁Мы, 0.012581933289766312), (▁где, 0.011364590376615524), (▁мире, 0.010033882223069668), (▁живе, 0.009849824011325836)]  \n",
       "3      [(▁A, 0.8692757487297058), (LS, 0.8453407287597656), (▁Итак, 0.4232903718948364), (соци, 0.4153563380241394), (▁Ас, 0.39962634444236755), (▁получи, 0.39457130432128906), (., 0.36762917041778564), (ация, 0.23021696507930756), (т, 0.21589915454387665), (,, 0.1999836415052414), (,, 0.19485005736351013), (▁долларов, 0.1469871699810028), (,, 0.09660983085632324), (▁их, 0.08091218769550323), (▁миллионов, 0.07766478508710861), (▁мнению, 0.07519985735416412), (▁160, 0.0722879096865654), (▁к, 0.055514320731163025), (▁по, 0.0397845022380352), (▁концу, 0.031021974980831146)]  \n",
       "4                                                                                                                                                                                                                                                                                      [(-, 0.09131084382534027), (▁HIV, 0.08281591534614563), (., 0.07669340074062347), (стату, 0.07630757987499237), (с, 0.07245305180549622), (▁человек, 0.02872910164296627), (▁свой, 0.025763263925909996), (▁должен, 0.024458736181259155), (▁знать, 0.02188253402709961), (▁Каждый, 0.019854936748743057)]  \n",
       "5      [(ЭД, 0.4293723702430725), (▁Т, 0.40111637115478516), (бывал, 0.20075175166130066), (▁по, 0.15033608675003052), (▁на, 0.12264221906661987), (▁Я, 0.08156793564558029), (▁них, 0.06063668057322502), (▁на, 0.053610529750585556), (▁первом, 0.049101125448942184), (▁пор, 0.04375514015555382), (▁с, 0.0431084930896759), (▁но, 0.04030495882034302), (▁был, 0.03987798094749451), (,, 0.035653240978717804), (., 0.034817688167095184), (▁многих, 0.03264036029577255), (▁тех, 0.032190389931201935), (▁не, 0.03203075751662254), (▁из, 0.029803654178977013), (▁в, 0.029554668813943863)]  \n",
       "6   [(▁возникающ, 0.40774625539779663), (ие, 0.1672370731830597), (▁NFL, 0.14898984134197235), (▁—, 0.14755631983280182), (▁—, 0.14469966292381287), (▁трен, 0.11361293494701385), (▁технологии, 0.11245134472846985), (▁вс, 0.10945328325033188), (пл, 0.10461366176605225), (иров, 0.10405667126178741), (▁—, 0.09824484586715698), (▁NFL, 0.09281231462955475), (▁поверх, 0.09068812429904938), (▁(, 0.08222054690122604), (▁на, 0.08052660524845123), (ме, 0.07671047747135162), (▁то, 0.0756664127111435), (С, 0.07459482550621033), (., 0.07353605329990387), (▁кадр, 0.07352041453123093)]  \n",
       "7                            [(БС, 0.7491008639335632), (▁А, 0.7299985885620117), (▁шоу, 0.6880263686180115), (,, 0.6539158821105957), (▁в, 0.621336817741394), (▁ему, 0.6164634227752686), (иться, 0.6148726940155029), (▁преврат, 0.6084769368171692), (лу, 0.5396932363510132), (ме, 0.5051762461662292), (▁Ким, 0.4850495755672455), (,, 0.42920398712158203), (тер, 0.4276982247829437), (м, 0.41551101207733154), (▁понравилось, 0.4106441140174866), (▁из, 0.40515023469924927), (▁Джи, 0.4040989279747009), (цы, 0.3945764899253845), (ов, 0.37730011343955994), (м, 0.3763011693954468)]  \n",
       "8      [(да, 0.15119636058807373), (▁силы, 0.14198897778987885), (▁сокращен, 0.13681569695472717), (▁скан, 0.1211746335029602), (▁рабочей, 0.10955949127674103), (касс, 0.0987345427274704), (-, 0.09667088836431503), (рих, 0.08955865353345871), (е, 0.08463238179683685), (▁ДО, 0.08020267635583878), (ко, 0.0796755850315094), (▁шт, 0.07693350315093994), (,, 0.0712953433394432), (иров, 0.0645216703414917), (ирование, 0.060284726321697235), (▁зам, 0.059867069125175476), (,, 0.05796493589878082), (▁, 0.05618799850344658), (▁банков, 0.0552540048956871), (ни, 0.05104649066925049)]  \n",
       "9   [(▁на, 0.40577954053878784), (цел, 0.40192970633506775), (▁тому, 0.34311842918395996), (▁подобно, 0.28648823499679565), (-, 0.2759382128715515), (е, 0.2482164353132248), (▁происходит, 0.24747532606124878), (▁N, 0.24448248744010925), (▁кибер, 0.23797515034675598), (▁развед, 0.23342502117156982), (SA, 0.22094333171844482), (енным, 0.189337819814682), (аналитик, 0.18542692065238953), (ха, 0.17793963849544525), (ки, 0.17072546482086182), (,, 0.16218315064907074), (▁и, 0.15954534709453583), (▁на, 0.15237653255462646), (ис, 0.14648941159248352), (▁на, 0.11360588669776917)]  "
      ]
     },
     "execution_count": 31,
     "metadata": {},
     "output_type": "execute_result"
    }
   ],
   "source": [
    "segments_df.head(10)"
   ]
  },
  {
   "cell_type": "code",
   "execution_count": 32,
   "id": "z_6Z-5ugO8me",
   "metadata": {
    "colab": {
     "base_uri": "https://localhost:8080/"
    },
    "executionInfo": {
     "elapsed": 4,
     "status": "ok",
     "timestamp": 1682356044649,
     "user": {
      "displayName": "Tamerlan Mukanov",
      "userId": "00277576829690841966"
     },
     "user_tz": -180
    },
    "id": "z_6Z-5ugO8me",
    "outputId": "f6702296-a3cf-4fae-c69f-df726d615951"
   },
   "outputs": [
    {
     "data": {
      "text/plain": [
       "(400, 8)"
      ]
     },
     "execution_count": 32,
     "metadata": {},
     "output_type": "execute_result"
    }
   ],
   "source": [
    "segments_df.shape"
   ]
  },
  {
   "cell_type": "code",
   "execution_count": 33,
   "id": "1Q1_GQMwPAZK",
   "metadata": {
    "executionInfo": {
     "elapsed": 336,
     "status": "ok",
     "timestamp": 1682356065965,
     "user": {
      "displayName": "Tamerlan Mukanov",
      "userId": "00277576829690841966"
     },
     "user_tz": -180
    },
    "id": "1Q1_GQMwPAZK"
   },
   "outputs": [],
   "source": [
    "segments_df.drop(columns='errors', inplace=True)"
   ]
  },
  {
   "cell_type": "code",
   "execution_count": 35,
   "id": "6zHe7YJDPAbi",
   "metadata": {
    "executionInfo": {
     "elapsed": 440,
     "status": "ok",
     "timestamp": 1682356110485,
     "user": {
      "displayName": "Tamerlan Mukanov",
      "userId": "00277576829690841966"
     },
     "user_tz": -180
    },
    "id": "6zHe7YJDPAbi"
   },
   "outputs": [],
   "source": [
    "segments_df.to_excel(RESULT_FILE, index=False)"
   ]
  }
 ],
 "metadata": {
  "accelerator": "GPU",
  "colab": {
   "collapsed_sections": [
    "kxaeqWysWmFa",
    "g1iWB9rsdn7g"
   ],
   "provenance": []
  },
  "gpuClass": "standard",
  "kernelspec": {
   "display_name": "Python 3",
   "language": "python",
   "name": "python3"
  },
  "language_info": {
   "codemirror_mode": {
    "name": "ipython",
    "version": 3
   },
   "file_extension": ".py",
   "mimetype": "text/x-python",
   "name": "python",
   "nbconvert_exporter": "python",
   "pygments_lexer": "ipython3",
   "version": "3.8.8"
  },
  "widgets": {
   "application/vnd.jupyter.widget-state+json": {
    "00e33eba122a4d138d2a0b83968c3e99": {
     "model_module": "@jupyter-widgets/base",
     "model_module_version": "1.2.0",
     "model_name": "LayoutModel",
     "state": {
      "_model_module": "@jupyter-widgets/base",
      "_model_module_version": "1.2.0",
      "_model_name": "LayoutModel",
      "_view_count": null,
      "_view_module": "@jupyter-widgets/base",
      "_view_module_version": "1.2.0",
      "_view_name": "LayoutView",
      "align_content": null,
      "align_items": null,
      "align_self": null,
      "border": null,
      "bottom": null,
      "display": null,
      "flex": null,
      "flex_flow": null,
      "grid_area": null,
      "grid_auto_columns": null,
      "grid_auto_flow": null,
      "grid_auto_rows": null,
      "grid_column": null,
      "grid_gap": null,
      "grid_row": null,
      "grid_template_areas": null,
      "grid_template_columns": null,
      "grid_template_rows": null,
      "height": null,
      "justify_content": null,
      "justify_items": null,
      "left": null,
      "margin": null,
      "max_height": null,
      "max_width": null,
      "min_height": null,
      "min_width": null,
      "object_fit": null,
      "object_position": null,
      "order": null,
      "overflow": null,
      "overflow_x": null,
      "overflow_y": null,
      "padding": null,
      "right": null,
      "top": null,
      "visibility": null,
      "width": null
     }
    },
    "07648a52a14849d4bfca66d7ba1d950f": {
     "model_module": "@jupyter-widgets/base",
     "model_module_version": "1.2.0",
     "model_name": "LayoutModel",
     "state": {
      "_model_module": "@jupyter-widgets/base",
      "_model_module_version": "1.2.0",
      "_model_name": "LayoutModel",
      "_view_count": null,
      "_view_module": "@jupyter-widgets/base",
      "_view_module_version": "1.2.0",
      "_view_name": "LayoutView",
      "align_content": null,
      "align_items": null,
      "align_self": null,
      "border": null,
      "bottom": null,
      "display": null,
      "flex": null,
      "flex_flow": null,
      "grid_area": null,
      "grid_auto_columns": null,
      "grid_auto_flow": null,
      "grid_auto_rows": null,
      "grid_column": null,
      "grid_gap": null,
      "grid_row": null,
      "grid_template_areas": null,
      "grid_template_columns": null,
      "grid_template_rows": null,
      "height": null,
      "justify_content": null,
      "justify_items": null,
      "left": null,
      "margin": null,
      "max_height": null,
      "max_width": null,
      "min_height": null,
      "min_width": null,
      "object_fit": null,
      "object_position": null,
      "order": null,
      "overflow": null,
      "overflow_x": null,
      "overflow_y": null,
      "padding": null,
      "right": null,
      "top": null,
      "visibility": null,
      "width": null
     }
    },
    "07acee29f4834cf08028bcaf0bdbb355": {
     "model_module": "@jupyter-widgets/controls",
     "model_module_version": "1.5.0",
     "model_name": "DescriptionStyleModel",
     "state": {
      "_model_module": "@jupyter-widgets/controls",
      "_model_module_version": "1.5.0",
      "_model_name": "DescriptionStyleModel",
      "_view_count": null,
      "_view_module": "@jupyter-widgets/base",
      "_view_module_version": "1.2.0",
      "_view_name": "StyleView",
      "description_width": ""
     }
    },
    "0804dc80964d475c91f619331424c369": {
     "model_module": "@jupyter-widgets/base",
     "model_module_version": "1.2.0",
     "model_name": "LayoutModel",
     "state": {
      "_model_module": "@jupyter-widgets/base",
      "_model_module_version": "1.2.0",
      "_model_name": "LayoutModel",
      "_view_count": null,
      "_view_module": "@jupyter-widgets/base",
      "_view_module_version": "1.2.0",
      "_view_name": "LayoutView",
      "align_content": null,
      "align_items": null,
      "align_self": null,
      "border": null,
      "bottom": null,
      "display": null,
      "flex": null,
      "flex_flow": null,
      "grid_area": null,
      "grid_auto_columns": null,
      "grid_auto_flow": null,
      "grid_auto_rows": null,
      "grid_column": null,
      "grid_gap": null,
      "grid_row": null,
      "grid_template_areas": null,
      "grid_template_columns": null,
      "grid_template_rows": null,
      "height": null,
      "justify_content": null,
      "justify_items": null,
      "left": null,
      "margin": null,
      "max_height": null,
      "max_width": null,
      "min_height": null,
      "min_width": null,
      "object_fit": null,
      "object_position": null,
      "order": null,
      "overflow": null,
      "overflow_x": null,
      "overflow_y": null,
      "padding": null,
      "right": null,
      "top": null,
      "visibility": null,
      "width": null
     }
    },
    "0a9a18731c284917a81a6d97c227fb79": {
     "model_module": "@jupyter-widgets/base",
     "model_module_version": "1.2.0",
     "model_name": "LayoutModel",
     "state": {
      "_model_module": "@jupyter-widgets/base",
      "_model_module_version": "1.2.0",
      "_model_name": "LayoutModel",
      "_view_count": null,
      "_view_module": "@jupyter-widgets/base",
      "_view_module_version": "1.2.0",
      "_view_name": "LayoutView",
      "align_content": null,
      "align_items": null,
      "align_self": null,
      "border": null,
      "bottom": null,
      "display": null,
      "flex": null,
      "flex_flow": null,
      "grid_area": null,
      "grid_auto_columns": null,
      "grid_auto_flow": null,
      "grid_auto_rows": null,
      "grid_column": null,
      "grid_gap": null,
      "grid_row": null,
      "grid_template_areas": null,
      "grid_template_columns": null,
      "grid_template_rows": null,
      "height": null,
      "justify_content": null,
      "justify_items": null,
      "left": null,
      "margin": null,
      "max_height": null,
      "max_width": null,
      "min_height": null,
      "min_width": null,
      "object_fit": null,
      "object_position": null,
      "order": null,
      "overflow": null,
      "overflow_x": null,
      "overflow_y": null,
      "padding": null,
      "right": null,
      "top": null,
      "visibility": null,
      "width": null
     }
    },
    "132146f1ef394acabbe746756f63ae36": {
     "model_module": "@jupyter-widgets/base",
     "model_module_version": "1.2.0",
     "model_name": "LayoutModel",
     "state": {
      "_model_module": "@jupyter-widgets/base",
      "_model_module_version": "1.2.0",
      "_model_name": "LayoutModel",
      "_view_count": null,
      "_view_module": "@jupyter-widgets/base",
      "_view_module_version": "1.2.0",
      "_view_name": "LayoutView",
      "align_content": null,
      "align_items": null,
      "align_self": null,
      "border": null,
      "bottom": null,
      "display": null,
      "flex": null,
      "flex_flow": null,
      "grid_area": null,
      "grid_auto_columns": null,
      "grid_auto_flow": null,
      "grid_auto_rows": null,
      "grid_column": null,
      "grid_gap": null,
      "grid_row": null,
      "grid_template_areas": null,
      "grid_template_columns": null,
      "grid_template_rows": null,
      "height": null,
      "justify_content": null,
      "justify_items": null,
      "left": null,
      "margin": null,
      "max_height": null,
      "max_width": null,
      "min_height": null,
      "min_width": null,
      "object_fit": null,
      "object_position": null,
      "order": null,
      "overflow": null,
      "overflow_x": null,
      "overflow_y": null,
      "padding": null,
      "right": null,
      "top": null,
      "visibility": null,
      "width": null
     }
    },
    "13866f8aa6dd4e39b2d1e313b231735b": {
     "model_module": "@jupyter-widgets/base",
     "model_module_version": "1.2.0",
     "model_name": "LayoutModel",
     "state": {
      "_model_module": "@jupyter-widgets/base",
      "_model_module_version": "1.2.0",
      "_model_name": "LayoutModel",
      "_view_count": null,
      "_view_module": "@jupyter-widgets/base",
      "_view_module_version": "1.2.0",
      "_view_name": "LayoutView",
      "align_content": null,
      "align_items": null,
      "align_self": null,
      "border": null,
      "bottom": null,
      "display": null,
      "flex": null,
      "flex_flow": null,
      "grid_area": null,
      "grid_auto_columns": null,
      "grid_auto_flow": null,
      "grid_auto_rows": null,
      "grid_column": null,
      "grid_gap": null,
      "grid_row": null,
      "grid_template_areas": null,
      "grid_template_columns": null,
      "grid_template_rows": null,
      "height": null,
      "justify_content": null,
      "justify_items": null,
      "left": null,
      "margin": null,
      "max_height": null,
      "max_width": null,
      "min_height": null,
      "min_width": null,
      "object_fit": null,
      "object_position": null,
      "order": null,
      "overflow": null,
      "overflow_x": null,
      "overflow_y": null,
      "padding": null,
      "right": null,
      "top": null,
      "visibility": null,
      "width": null
     }
    },
    "1520691b75ae455d8c66a38956a29932": {
     "model_module": "@jupyter-widgets/base",
     "model_module_version": "1.2.0",
     "model_name": "LayoutModel",
     "state": {
      "_model_module": "@jupyter-widgets/base",
      "_model_module_version": "1.2.0",
      "_model_name": "LayoutModel",
      "_view_count": null,
      "_view_module": "@jupyter-widgets/base",
      "_view_module_version": "1.2.0",
      "_view_name": "LayoutView",
      "align_content": null,
      "align_items": null,
      "align_self": null,
      "border": null,
      "bottom": null,
      "display": null,
      "flex": null,
      "flex_flow": null,
      "grid_area": null,
      "grid_auto_columns": null,
      "grid_auto_flow": null,
      "grid_auto_rows": null,
      "grid_column": null,
      "grid_gap": null,
      "grid_row": null,
      "grid_template_areas": null,
      "grid_template_columns": null,
      "grid_template_rows": null,
      "height": null,
      "justify_content": null,
      "justify_items": null,
      "left": null,
      "margin": null,
      "max_height": null,
      "max_width": null,
      "min_height": null,
      "min_width": null,
      "object_fit": null,
      "object_position": null,
      "order": null,
      "overflow": null,
      "overflow_x": null,
      "overflow_y": null,
      "padding": null,
      "right": null,
      "top": null,
      "visibility": null,
      "width": null
     }
    },
    "29cb62311435445c8555cac6e158eaea": {
     "model_module": "@jupyter-widgets/controls",
     "model_module_version": "1.5.0",
     "model_name": "HTMLModel",
     "state": {
      "_dom_classes": [],
      "_model_module": "@jupyter-widgets/controls",
      "_model_module_version": "1.5.0",
      "_model_name": "HTMLModel",
      "_view_count": null,
      "_view_module": "@jupyter-widgets/controls",
      "_view_module_version": "1.5.0",
      "_view_name": "HTMLView",
      "description": "",
      "description_tooltip": null,
      "layout": "IPY_MODEL_00e33eba122a4d138d2a0b83968c3e99",
      "placeholder": "​",
      "style": "IPY_MODEL_818bc6f4b7764ed6968b732ee1605c51",
      "value": " 714M/714M [00:03&lt;00:00, 257MB/s]"
     }
    },
    "2abd841c289741e4a6b1792b2eaf2668": {
     "model_module": "@jupyter-widgets/controls",
     "model_module_version": "1.5.0",
     "model_name": "FloatProgressModel",
     "state": {
      "_dom_classes": [],
      "_model_module": "@jupyter-widgets/controls",
      "_model_module_version": "1.5.0",
      "_model_name": "FloatProgressModel",
      "_view_count": null,
      "_view_module": "@jupyter-widgets/controls",
      "_view_module_version": "1.5.0",
      "_view_name": "ProgressView",
      "bar_style": "success",
      "description": "",
      "description_tooltip": null,
      "layout": "IPY_MODEL_7d43d3e80a1d4e10bae4cdfc58d96fc7",
      "max": 714355318,
      "min": 0,
      "orientation": "horizontal",
      "style": "IPY_MODEL_ee37dbba3ec640bd841f7b091ff6e3da",
      "value": 714355318
     }
    },
    "2b1086b10ac8446d906a99e5cf66f1a1": {
     "model_module": "@jupyter-widgets/controls",
     "model_module_version": "1.5.0",
     "model_name": "ProgressStyleModel",
     "state": {
      "_model_module": "@jupyter-widgets/controls",
      "_model_module_version": "1.5.0",
      "_model_name": "ProgressStyleModel",
      "_view_count": null,
      "_view_module": "@jupyter-widgets/base",
      "_view_module_version": "1.2.0",
      "_view_name": "StyleView",
      "bar_color": null,
      "description_width": ""
     }
    },
    "2e1af0d43bfc45d0899df6c0f2510e3e": {
     "model_module": "@jupyter-widgets/controls",
     "model_module_version": "1.5.0",
     "model_name": "ProgressStyleModel",
     "state": {
      "_model_module": "@jupyter-widgets/controls",
      "_model_module_version": "1.5.0",
      "_model_name": "ProgressStyleModel",
      "_view_count": null,
      "_view_module": "@jupyter-widgets/base",
      "_view_module_version": "1.2.0",
      "_view_name": "StyleView",
      "bar_color": null,
      "description_width": ""
     }
    },
    "2ef56473bd8c470abbdd84bf227585bd": {
     "model_module": "@jupyter-widgets/controls",
     "model_module_version": "1.5.0",
     "model_name": "HTMLModel",
     "state": {
      "_dom_classes": [],
      "_model_module": "@jupyter-widgets/controls",
      "_model_module_version": "1.5.0",
      "_model_name": "HTMLModel",
      "_view_count": null,
      "_view_module": "@jupyter-widgets/controls",
      "_view_module_version": "1.5.0",
      "_view_name": "HTMLView",
      "description": "",
      "description_tooltip": null,
      "layout": "IPY_MODEL_68048cfec56a46869920b0d97e9dc94e",
      "placeholder": "​",
      "style": "IPY_MODEL_6c96202b4b214f8eb0e28e2903935550",
      "value": " 513/513 [00:00&lt;00:00, 38.8kB/s]"
     }
    },
    "3051fb87dadf471f9650e12e3aa81a44": {
     "model_module": "@jupyter-widgets/controls",
     "model_module_version": "1.5.0",
     "model_name": "DescriptionStyleModel",
     "state": {
      "_model_module": "@jupyter-widgets/controls",
      "_model_module_version": "1.5.0",
      "_model_name": "DescriptionStyleModel",
      "_view_count": null,
      "_view_module": "@jupyter-widgets/base",
      "_view_module_version": "1.2.0",
      "_view_name": "StyleView",
      "description_width": ""
     }
    },
    "46722524c2244531b40b4db7971aec60": {
     "model_module": "@jupyter-widgets/base",
     "model_module_version": "1.2.0",
     "model_name": "LayoutModel",
     "state": {
      "_model_module": "@jupyter-widgets/base",
      "_model_module_version": "1.2.0",
      "_model_name": "LayoutModel",
      "_view_count": null,
      "_view_module": "@jupyter-widgets/base",
      "_view_module_version": "1.2.0",
      "_view_name": "LayoutView",
      "align_content": null,
      "align_items": null,
      "align_self": null,
      "border": null,
      "bottom": null,
      "display": null,
      "flex": null,
      "flex_flow": null,
      "grid_area": null,
      "grid_auto_columns": null,
      "grid_auto_flow": null,
      "grid_auto_rows": null,
      "grid_column": null,
      "grid_gap": null,
      "grid_row": null,
      "grid_template_areas": null,
      "grid_template_columns": null,
      "grid_template_rows": null,
      "height": null,
      "justify_content": null,
      "justify_items": null,
      "left": null,
      "margin": null,
      "max_height": null,
      "max_width": null,
      "min_height": null,
      "min_width": null,
      "object_fit": null,
      "object_position": null,
      "order": null,
      "overflow": null,
      "overflow_x": null,
      "overflow_y": null,
      "padding": null,
      "right": null,
      "top": null,
      "visibility": null,
      "width": null
     }
    },
    "4853214d0b0144069388bc800615b969": {
     "model_module": "@jupyter-widgets/controls",
     "model_module_version": "1.5.0",
     "model_name": "HBoxModel",
     "state": {
      "_dom_classes": [],
      "_model_module": "@jupyter-widgets/controls",
      "_model_module_version": "1.5.0",
      "_model_name": "HBoxModel",
      "_view_count": null,
      "_view_module": "@jupyter-widgets/controls",
      "_view_module_version": "1.5.0",
      "_view_name": "HBoxView",
      "box_style": "",
      "children": [
       "IPY_MODEL_dfdaf3d4a37840f18769accda3f09891",
       "IPY_MODEL_d9769f90dda146acb7876a4772c554ac",
       "IPY_MODEL_bb413be2b94c481bbab6d68d16c80f8b"
      ],
      "layout": "IPY_MODEL_46722524c2244531b40b4db7971aec60"
     }
    },
    "51408301d6a34ed0b7a63e6914ef4ff1": {
     "model_module": "@jupyter-widgets/base",
     "model_module_version": "1.2.0",
     "model_name": "LayoutModel",
     "state": {
      "_model_module": "@jupyter-widgets/base",
      "_model_module_version": "1.2.0",
      "_model_name": "LayoutModel",
      "_view_count": null,
      "_view_module": "@jupyter-widgets/base",
      "_view_module_version": "1.2.0",
      "_view_name": "LayoutView",
      "align_content": null,
      "align_items": null,
      "align_self": null,
      "border": null,
      "bottom": null,
      "display": null,
      "flex": null,
      "flex_flow": null,
      "grid_area": null,
      "grid_auto_columns": null,
      "grid_auto_flow": null,
      "grid_auto_rows": null,
      "grid_column": null,
      "grid_gap": null,
      "grid_row": null,
      "grid_template_areas": null,
      "grid_template_columns": null,
      "grid_template_rows": null,
      "height": null,
      "justify_content": null,
      "justify_items": null,
      "left": null,
      "margin": null,
      "max_height": null,
      "max_width": null,
      "min_height": null,
      "min_width": null,
      "object_fit": null,
      "object_position": null,
      "order": null,
      "overflow": null,
      "overflow_x": null,
      "overflow_y": null,
      "padding": null,
      "right": null,
      "top": null,
      "visibility": null,
      "width": null
     }
    },
    "5f1a51074d30497d8632c1baff7c7166": {
     "model_module": "@jupyter-widgets/controls",
     "model_module_version": "1.5.0",
     "model_name": "ProgressStyleModel",
     "state": {
      "_model_module": "@jupyter-widgets/controls",
      "_model_module_version": "1.5.0",
      "_model_name": "ProgressStyleModel",
      "_view_count": null,
      "_view_module": "@jupyter-widgets/base",
      "_view_module_version": "1.2.0",
      "_view_name": "StyleView",
      "bar_color": null,
      "description_width": ""
     }
    },
    "68048cfec56a46869920b0d97e9dc94e": {
     "model_module": "@jupyter-widgets/base",
     "model_module_version": "1.2.0",
     "model_name": "LayoutModel",
     "state": {
      "_model_module": "@jupyter-widgets/base",
      "_model_module_version": "1.2.0",
      "_model_name": "LayoutModel",
      "_view_count": null,
      "_view_module": "@jupyter-widgets/base",
      "_view_module_version": "1.2.0",
      "_view_name": "LayoutView",
      "align_content": null,
      "align_items": null,
      "align_self": null,
      "border": null,
      "bottom": null,
      "display": null,
      "flex": null,
      "flex_flow": null,
      "grid_area": null,
      "grid_auto_columns": null,
      "grid_auto_flow": null,
      "grid_auto_rows": null,
      "grid_column": null,
      "grid_gap": null,
      "grid_row": null,
      "grid_template_areas": null,
      "grid_template_columns": null,
      "grid_template_rows": null,
      "height": null,
      "justify_content": null,
      "justify_items": null,
      "left": null,
      "margin": null,
      "max_height": null,
      "max_width": null,
      "min_height": null,
      "min_width": null,
      "object_fit": null,
      "object_position": null,
      "order": null,
      "overflow": null,
      "overflow_x": null,
      "overflow_y": null,
      "padding": null,
      "right": null,
      "top": null,
      "visibility": null,
      "width": null
     }
    },
    "68678c32ab49447f966f2b47da003142": {
     "model_module": "@jupyter-widgets/controls",
     "model_module_version": "1.5.0",
     "model_name": "HTMLModel",
     "state": {
      "_dom_classes": [],
      "_model_module": "@jupyter-widgets/controls",
      "_model_module_version": "1.5.0",
      "_model_name": "HTMLModel",
      "_view_count": null,
      "_view_module": "@jupyter-widgets/controls",
      "_view_module_version": "1.5.0",
      "_view_name": "HTMLView",
      "description": "",
      "description_tooltip": null,
      "layout": "IPY_MODEL_13866f8aa6dd4e39b2d1e313b231735b",
      "placeholder": "​",
      "style": "IPY_MODEL_7c4159a1935640679709c619dd4f4651",
      "value": " 5.07M/5.07M [00:00&lt;00:00, 7.50MB/s]"
     }
    },
    "6c96202b4b214f8eb0e28e2903935550": {
     "model_module": "@jupyter-widgets/controls",
     "model_module_version": "1.5.0",
     "model_name": "DescriptionStyleModel",
     "state": {
      "_model_module": "@jupyter-widgets/controls",
      "_model_module_version": "1.5.0",
      "_model_name": "DescriptionStyleModel",
      "_view_count": null,
      "_view_module": "@jupyter-widgets/base",
      "_view_module_version": "1.2.0",
      "_view_name": "StyleView",
      "description_width": ""
     }
    },
    "756192708a594b398ed3ddfde8a2f847": {
     "model_module": "@jupyter-widgets/controls",
     "model_module_version": "1.5.0",
     "model_name": "HBoxModel",
     "state": {
      "_dom_classes": [],
      "_model_module": "@jupyter-widgets/controls",
      "_model_module_version": "1.5.0",
      "_model_name": "HBoxModel",
      "_view_count": null,
      "_view_module": "@jupyter-widgets/controls",
      "_view_module_version": "1.5.0",
      "_view_name": "HBoxView",
      "box_style": "",
      "children": [
       "IPY_MODEL_8f2992202b1245698cec1ab553e572eb",
       "IPY_MODEL_9eecc2deb8de42f6a06c83b76415d93d",
       "IPY_MODEL_2ef56473bd8c470abbdd84bf227585bd"
      ],
      "layout": "IPY_MODEL_0a9a18731c284917a81a6d97c227fb79"
     }
    },
    "7955c79182a74698bb3792f82dffdbfc": {
     "model_module": "@jupyter-widgets/controls",
     "model_module_version": "1.5.0",
     "model_name": "FloatProgressModel",
     "state": {
      "_dom_classes": [],
      "_model_module": "@jupyter-widgets/controls",
      "_model_module_version": "1.5.0",
      "_model_name": "FloatProgressModel",
      "_view_count": null,
      "_view_module": "@jupyter-widgets/controls",
      "_view_module_version": "1.5.0",
      "_view_name": "ProgressView",
      "bar_style": "success",
      "description": "",
      "description_tooltip": null,
      "layout": "IPY_MODEL_0804dc80964d475c91f619331424c369",
      "max": 5069051,
      "min": 0,
      "orientation": "horizontal",
      "style": "IPY_MODEL_2b1086b10ac8446d906a99e5cf66f1a1",
      "value": 5069051
     }
    },
    "7c4159a1935640679709c619dd4f4651": {
     "model_module": "@jupyter-widgets/controls",
     "model_module_version": "1.5.0",
     "model_name": "DescriptionStyleModel",
     "state": {
      "_model_module": "@jupyter-widgets/controls",
      "_model_module_version": "1.5.0",
      "_model_name": "DescriptionStyleModel",
      "_view_count": null,
      "_view_module": "@jupyter-widgets/base",
      "_view_module_version": "1.2.0",
      "_view_name": "StyleView",
      "description_width": ""
     }
    },
    "7d43d3e80a1d4e10bae4cdfc58d96fc7": {
     "model_module": "@jupyter-widgets/base",
     "model_module_version": "1.2.0",
     "model_name": "LayoutModel",
     "state": {
      "_model_module": "@jupyter-widgets/base",
      "_model_module_version": "1.2.0",
      "_model_name": "LayoutModel",
      "_view_count": null,
      "_view_module": "@jupyter-widgets/base",
      "_view_module_version": "1.2.0",
      "_view_name": "LayoutView",
      "align_content": null,
      "align_items": null,
      "align_self": null,
      "border": null,
      "bottom": null,
      "display": null,
      "flex": null,
      "flex_flow": null,
      "grid_area": null,
      "grid_auto_columns": null,
      "grid_auto_flow": null,
      "grid_auto_rows": null,
      "grid_column": null,
      "grid_gap": null,
      "grid_row": null,
      "grid_template_areas": null,
      "grid_template_columns": null,
      "grid_template_rows": null,
      "height": null,
      "justify_content": null,
      "justify_items": null,
      "left": null,
      "margin": null,
      "max_height": null,
      "max_width": null,
      "min_height": null,
      "min_width": null,
      "object_fit": null,
      "object_position": null,
      "order": null,
      "overflow": null,
      "overflow_x": null,
      "overflow_y": null,
      "padding": null,
      "right": null,
      "top": null,
      "visibility": null,
      "width": null
     }
    },
    "7f9061cd1d4a491a8064b62512ab96d8": {
     "model_module": "@jupyter-widgets/base",
     "model_module_version": "1.2.0",
     "model_name": "LayoutModel",
     "state": {
      "_model_module": "@jupyter-widgets/base",
      "_model_module_version": "1.2.0",
      "_model_name": "LayoutModel",
      "_view_count": null,
      "_view_module": "@jupyter-widgets/base",
      "_view_module_version": "1.2.0",
      "_view_name": "LayoutView",
      "align_content": null,
      "align_items": null,
      "align_self": null,
      "border": null,
      "bottom": null,
      "display": null,
      "flex": null,
      "flex_flow": null,
      "grid_area": null,
      "grid_auto_columns": null,
      "grid_auto_flow": null,
      "grid_auto_rows": null,
      "grid_column": null,
      "grid_gap": null,
      "grid_row": null,
      "grid_template_areas": null,
      "grid_template_columns": null,
      "grid_template_rows": null,
      "height": null,
      "justify_content": null,
      "justify_items": null,
      "left": null,
      "margin": null,
      "max_height": null,
      "max_width": null,
      "min_height": null,
      "min_width": null,
      "object_fit": null,
      "object_position": null,
      "order": null,
      "overflow": null,
      "overflow_x": null,
      "overflow_y": null,
      "padding": null,
      "right": null,
      "top": null,
      "visibility": null,
      "width": null
     }
    },
    "818bc6f4b7764ed6968b732ee1605c51": {
     "model_module": "@jupyter-widgets/controls",
     "model_module_version": "1.5.0",
     "model_name": "DescriptionStyleModel",
     "state": {
      "_model_module": "@jupyter-widgets/controls",
      "_model_module_version": "1.5.0",
      "_model_name": "DescriptionStyleModel",
      "_view_count": null,
      "_view_module": "@jupyter-widgets/base",
      "_view_module_version": "1.2.0",
      "_view_name": "StyleView",
      "description_width": ""
     }
    },
    "87b567b9fbb7458db3ba7908aadd48fb": {
     "model_module": "@jupyter-widgets/controls",
     "model_module_version": "1.5.0",
     "model_name": "HBoxModel",
     "state": {
      "_dom_classes": [],
      "_model_module": "@jupyter-widgets/controls",
      "_model_module_version": "1.5.0",
      "_model_name": "HBoxModel",
      "_view_count": null,
      "_view_module": "@jupyter-widgets/controls",
      "_view_module_version": "1.5.0",
      "_view_name": "HBoxView",
      "box_style": "",
      "children": [
       "IPY_MODEL_f987350f380b4d27933cce280eda624e",
       "IPY_MODEL_2abd841c289741e4a6b1792b2eaf2668",
       "IPY_MODEL_29cb62311435445c8555cac6e158eaea"
      ],
      "layout": "IPY_MODEL_132146f1ef394acabbe746756f63ae36"
     }
    },
    "8f2992202b1245698cec1ab553e572eb": {
     "model_module": "@jupyter-widgets/controls",
     "model_module_version": "1.5.0",
     "model_name": "HTMLModel",
     "state": {
      "_dom_classes": [],
      "_model_module": "@jupyter-widgets/controls",
      "_model_module_version": "1.5.0",
      "_model_name": "HTMLModel",
      "_view_count": null,
      "_view_module": "@jupyter-widgets/controls",
      "_view_module_version": "1.5.0",
      "_view_name": "HTMLView",
      "description": "",
      "description_tooltip": null,
      "layout": "IPY_MODEL_ec5a095e980f462e9fbccfa2d96787ad",
      "placeholder": "​",
      "style": "IPY_MODEL_adb2adec89ee4ebcb2a0fefd0aa9ae97",
      "value": "Downloading (…)lve/main/config.json: 100%"
     }
    },
    "9a19007b93bb4a9caaa2a045930cadfb": {
     "model_module": "@jupyter-widgets/controls",
     "model_module_version": "1.5.0",
     "model_name": "DescriptionStyleModel",
     "state": {
      "_model_module": "@jupyter-widgets/controls",
      "_model_module_version": "1.5.0",
      "_model_name": "DescriptionStyleModel",
      "_view_count": null,
      "_view_module": "@jupyter-widgets/base",
      "_view_module_version": "1.2.0",
      "_view_name": "StyleView",
      "description_width": ""
     }
    },
    "9eecc2deb8de42f6a06c83b76415d93d": {
     "model_module": "@jupyter-widgets/controls",
     "model_module_version": "1.5.0",
     "model_name": "FloatProgressModel",
     "state": {
      "_dom_classes": [],
      "_model_module": "@jupyter-widgets/controls",
      "_model_module_version": "1.5.0",
      "_model_name": "FloatProgressModel",
      "_view_count": null,
      "_view_module": "@jupyter-widgets/controls",
      "_view_module_version": "1.5.0",
      "_view_name": "ProgressView",
      "bar_style": "success",
      "description": "",
      "description_tooltip": null,
      "layout": "IPY_MODEL_51408301d6a34ed0b7a63e6914ef4ff1",
      "max": 513,
      "min": 0,
      "orientation": "horizontal",
      "style": "IPY_MODEL_5f1a51074d30497d8632c1baff7c7166",
      "value": 513
     }
    },
    "9f4b3ea1c5984904b8c0ced63182be52": {
     "model_module": "@jupyter-widgets/base",
     "model_module_version": "1.2.0",
     "model_name": "LayoutModel",
     "state": {
      "_model_module": "@jupyter-widgets/base",
      "_model_module_version": "1.2.0",
      "_model_name": "LayoutModel",
      "_view_count": null,
      "_view_module": "@jupyter-widgets/base",
      "_view_module_version": "1.2.0",
      "_view_name": "LayoutView",
      "align_content": null,
      "align_items": null,
      "align_self": null,
      "border": null,
      "bottom": null,
      "display": null,
      "flex": null,
      "flex_flow": null,
      "grid_area": null,
      "grid_auto_columns": null,
      "grid_auto_flow": null,
      "grid_auto_rows": null,
      "grid_column": null,
      "grid_gap": null,
      "grid_row": null,
      "grid_template_areas": null,
      "grid_template_columns": null,
      "grid_template_rows": null,
      "height": null,
      "justify_content": null,
      "justify_items": null,
      "left": null,
      "margin": null,
      "max_height": null,
      "max_width": null,
      "min_height": null,
      "min_width": null,
      "object_fit": null,
      "object_position": null,
      "order": null,
      "overflow": null,
      "overflow_x": null,
      "overflow_y": null,
      "padding": null,
      "right": null,
      "top": null,
      "visibility": null,
      "width": null
     }
    },
    "a4695a975e214c5799cca84349c7b91f": {
     "model_module": "@jupyter-widgets/base",
     "model_module_version": "1.2.0",
     "model_name": "LayoutModel",
     "state": {
      "_model_module": "@jupyter-widgets/base",
      "_model_module_version": "1.2.0",
      "_model_name": "LayoutModel",
      "_view_count": null,
      "_view_module": "@jupyter-widgets/base",
      "_view_module_version": "1.2.0",
      "_view_name": "LayoutView",
      "align_content": null,
      "align_items": null,
      "align_self": null,
      "border": null,
      "bottom": null,
      "display": null,
      "flex": null,
      "flex_flow": null,
      "grid_area": null,
      "grid_auto_columns": null,
      "grid_auto_flow": null,
      "grid_auto_rows": null,
      "grid_column": null,
      "grid_gap": null,
      "grid_row": null,
      "grid_template_areas": null,
      "grid_template_columns": null,
      "grid_template_rows": null,
      "height": null,
      "justify_content": null,
      "justify_items": null,
      "left": null,
      "margin": null,
      "max_height": null,
      "max_width": null,
      "min_height": null,
      "min_width": null,
      "object_fit": null,
      "object_position": null,
      "order": null,
      "overflow": null,
      "overflow_x": null,
      "overflow_y": null,
      "padding": null,
      "right": null,
      "top": null,
      "visibility": null,
      "width": null
     }
    },
    "adb2adec89ee4ebcb2a0fefd0aa9ae97": {
     "model_module": "@jupyter-widgets/controls",
     "model_module_version": "1.5.0",
     "model_name": "DescriptionStyleModel",
     "state": {
      "_model_module": "@jupyter-widgets/controls",
      "_model_module_version": "1.5.0",
      "_model_name": "DescriptionStyleModel",
      "_view_count": null,
      "_view_module": "@jupyter-widgets/base",
      "_view_module_version": "1.2.0",
      "_view_name": "StyleView",
      "description_width": ""
     }
    },
    "bb413be2b94c481bbab6d68d16c80f8b": {
     "model_module": "@jupyter-widgets/controls",
     "model_module_version": "1.5.0",
     "model_name": "HTMLModel",
     "state": {
      "_dom_classes": [],
      "_model_module": "@jupyter-widgets/controls",
      "_model_module_version": "1.5.0",
      "_model_name": "HTMLModel",
      "_view_count": null,
      "_view_module": "@jupyter-widgets/controls",
      "_view_module_version": "1.5.0",
      "_view_name": "HTMLView",
      "description": "",
      "description_tooltip": null,
      "layout": "IPY_MODEL_a4695a975e214c5799cca84349c7b91f",
      "placeholder": "​",
      "style": "IPY_MODEL_c6423bec909545a4b4ced9763aebec23",
      "value": " 9.10M/9.10M [00:00&lt;00:00, 33.3MB/s]"
     }
    },
    "c487a3910c5044e5af1141a388b6e5d4": {
     "model_module": "@jupyter-widgets/controls",
     "model_module_version": "1.5.0",
     "model_name": "HTMLModel",
     "state": {
      "_dom_classes": [],
      "_model_module": "@jupyter-widgets/controls",
      "_model_module_version": "1.5.0",
      "_model_name": "HTMLModel",
      "_view_count": null,
      "_view_module": "@jupyter-widgets/controls",
      "_view_module_version": "1.5.0",
      "_view_name": "HTMLView",
      "description": "",
      "description_tooltip": null,
      "layout": "IPY_MODEL_7f9061cd1d4a491a8064b62512ab96d8",
      "placeholder": "​",
      "style": "IPY_MODEL_3051fb87dadf471f9650e12e3aa81a44",
      "value": "Downloading (…)tencepiece.bpe.model: 100%"
     }
    },
    "c566f03c2bd747c1acbed0fcd83ac930": {
     "model_module": "@jupyter-widgets/controls",
     "model_module_version": "1.5.0",
     "model_name": "HBoxModel",
     "state": {
      "_dom_classes": [],
      "_model_module": "@jupyter-widgets/controls",
      "_model_module_version": "1.5.0",
      "_model_name": "HBoxModel",
      "_view_count": null,
      "_view_module": "@jupyter-widgets/controls",
      "_view_module_version": "1.5.0",
      "_view_name": "HBoxView",
      "box_style": "",
      "children": [
       "IPY_MODEL_c487a3910c5044e5af1141a388b6e5d4",
       "IPY_MODEL_7955c79182a74698bb3792f82dffdbfc",
       "IPY_MODEL_68678c32ab49447f966f2b47da003142"
      ],
      "layout": "IPY_MODEL_ec41f1245e744cd7b028bffcdea0a18e"
     }
    },
    "c6423bec909545a4b4ced9763aebec23": {
     "model_module": "@jupyter-widgets/controls",
     "model_module_version": "1.5.0",
     "model_name": "DescriptionStyleModel",
     "state": {
      "_model_module": "@jupyter-widgets/controls",
      "_model_module_version": "1.5.0",
      "_model_name": "DescriptionStyleModel",
      "_view_count": null,
      "_view_module": "@jupyter-widgets/base",
      "_view_module_version": "1.2.0",
      "_view_name": "StyleView",
      "description_width": ""
     }
    },
    "d9769f90dda146acb7876a4772c554ac": {
     "model_module": "@jupyter-widgets/controls",
     "model_module_version": "1.5.0",
     "model_name": "FloatProgressModel",
     "state": {
      "_dom_classes": [],
      "_model_module": "@jupyter-widgets/controls",
      "_model_module_version": "1.5.0",
      "_model_name": "FloatProgressModel",
      "_view_count": null,
      "_view_module": "@jupyter-widgets/controls",
      "_view_module_version": "1.5.0",
      "_view_name": "ProgressView",
      "bar_style": "success",
      "description": "",
      "description_tooltip": null,
      "layout": "IPY_MODEL_9f4b3ea1c5984904b8c0ced63182be52",
      "max": 9096718,
      "min": 0,
      "orientation": "horizontal",
      "style": "IPY_MODEL_2e1af0d43bfc45d0899df6c0f2510e3e",
      "value": 9096718
     }
    },
    "dfdaf3d4a37840f18769accda3f09891": {
     "model_module": "@jupyter-widgets/controls",
     "model_module_version": "1.5.0",
     "model_name": "HTMLModel",
     "state": {
      "_dom_classes": [],
      "_model_module": "@jupyter-widgets/controls",
      "_model_module_version": "1.5.0",
      "_model_name": "HTMLModel",
      "_view_count": null,
      "_view_module": "@jupyter-widgets/controls",
      "_view_module_version": "1.5.0",
      "_view_name": "HTMLView",
      "description": "",
      "description_tooltip": null,
      "layout": "IPY_MODEL_1520691b75ae455d8c66a38956a29932",
      "placeholder": "​",
      "style": "IPY_MODEL_9a19007b93bb4a9caaa2a045930cadfb",
      "value": "Downloading (…)/main/tokenizer.json: 100%"
     }
    },
    "ec41f1245e744cd7b028bffcdea0a18e": {
     "model_module": "@jupyter-widgets/base",
     "model_module_version": "1.2.0",
     "model_name": "LayoutModel",
     "state": {
      "_model_module": "@jupyter-widgets/base",
      "_model_module_version": "1.2.0",
      "_model_name": "LayoutModel",
      "_view_count": null,
      "_view_module": "@jupyter-widgets/base",
      "_view_module_version": "1.2.0",
      "_view_name": "LayoutView",
      "align_content": null,
      "align_items": null,
      "align_self": null,
      "border": null,
      "bottom": null,
      "display": null,
      "flex": null,
      "flex_flow": null,
      "grid_area": null,
      "grid_auto_columns": null,
      "grid_auto_flow": null,
      "grid_auto_rows": null,
      "grid_column": null,
      "grid_gap": null,
      "grid_row": null,
      "grid_template_areas": null,
      "grid_template_columns": null,
      "grid_template_rows": null,
      "height": null,
      "justify_content": null,
      "justify_items": null,
      "left": null,
      "margin": null,
      "max_height": null,
      "max_width": null,
      "min_height": null,
      "min_width": null,
      "object_fit": null,
      "object_position": null,
      "order": null,
      "overflow": null,
      "overflow_x": null,
      "overflow_y": null,
      "padding": null,
      "right": null,
      "top": null,
      "visibility": null,
      "width": null
     }
    },
    "ec5a095e980f462e9fbccfa2d96787ad": {
     "model_module": "@jupyter-widgets/base",
     "model_module_version": "1.2.0",
     "model_name": "LayoutModel",
     "state": {
      "_model_module": "@jupyter-widgets/base",
      "_model_module_version": "1.2.0",
      "_model_name": "LayoutModel",
      "_view_count": null,
      "_view_module": "@jupyter-widgets/base",
      "_view_module_version": "1.2.0",
      "_view_name": "LayoutView",
      "align_content": null,
      "align_items": null,
      "align_self": null,
      "border": null,
      "bottom": null,
      "display": null,
      "flex": null,
      "flex_flow": null,
      "grid_area": null,
      "grid_auto_columns": null,
      "grid_auto_flow": null,
      "grid_auto_rows": null,
      "grid_column": null,
      "grid_gap": null,
      "grid_row": null,
      "grid_template_areas": null,
      "grid_template_columns": null,
      "grid_template_rows": null,
      "height": null,
      "justify_content": null,
      "justify_items": null,
      "left": null,
      "margin": null,
      "max_height": null,
      "max_width": null,
      "min_height": null,
      "min_width": null,
      "object_fit": null,
      "object_position": null,
      "order": null,
      "overflow": null,
      "overflow_x": null,
      "overflow_y": null,
      "padding": null,
      "right": null,
      "top": null,
      "visibility": null,
      "width": null
     }
    },
    "ee37dbba3ec640bd841f7b091ff6e3da": {
     "model_module": "@jupyter-widgets/controls",
     "model_module_version": "1.5.0",
     "model_name": "ProgressStyleModel",
     "state": {
      "_model_module": "@jupyter-widgets/controls",
      "_model_module_version": "1.5.0",
      "_model_name": "ProgressStyleModel",
      "_view_count": null,
      "_view_module": "@jupyter-widgets/base",
      "_view_module_version": "1.2.0",
      "_view_name": "StyleView",
      "bar_color": null,
      "description_width": ""
     }
    },
    "f987350f380b4d27933cce280eda624e": {
     "model_module": "@jupyter-widgets/controls",
     "model_module_version": "1.5.0",
     "model_name": "HTMLModel",
     "state": {
      "_dom_classes": [],
      "_model_module": "@jupyter-widgets/controls",
      "_model_module_version": "1.5.0",
      "_model_name": "HTMLModel",
      "_view_count": null,
      "_view_module": "@jupyter-widgets/controls",
      "_view_module_version": "1.5.0",
      "_view_name": "HTMLView",
      "description": "",
      "description_tooltip": null,
      "layout": "IPY_MODEL_07648a52a14849d4bfca66d7ba1d950f",
      "placeholder": "​",
      "style": "IPY_MODEL_07acee29f4834cf08028bcaf0bdbb355",
      "value": "Downloading pytorch_model.bin: 100%"
     }
    }
   }
  }
 },
 "nbformat": 4,
 "nbformat_minor": 5
}
